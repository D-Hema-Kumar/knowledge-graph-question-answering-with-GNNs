{
 "cells": [
  {
   "cell_type": "code",
   "execution_count": 3,
   "metadata": {},
   "outputs": [
    {
     "name": "stderr",
     "output_type": "stream",
     "text": [
      "c:\\Users\\I583773\\.virtualenvs\\psmg-imkg-gnn-qa-b7xnrL-L\\Lib\\site-packages\\tqdm\\auto.py:21: TqdmWarning: IProgress not found. Please update jupyter and ipywidgets. See https://ipywidgets.readthedocs.io/en/stable/user_install.html\n",
      "  from .autonotebook import tqdm as notebook_tqdm\n"
     ]
    }
   ],
   "source": [
    "import pandas as pd\n",
    "import json\n",
    "import torch\n",
    "import torch.nn.functional as F\n",
    "from loguru import logger\n",
    "import sys\n",
    "import os\n",
    "from tqdm import tqdm\n",
    "\n",
    "import numpy as np\n",
    "from torch_geometric.data import Data\n",
    "\n",
    "from core.LLM.LLMEncoder import LLMEncoder\n",
    "from core.ToTorch.DataBuilder import QADataBuilder, QAMaskBuilder\n",
    "from config.config import (\n",
    "    TRIPLES_PATH,\n",
    "    ENTITIES_LABELS_PATH,\n",
    "    PROPERTIES_LABELS_PATH,\n",
    "    GRAPH_EMBEDDINGS_PATH,\n",
    "    QUESTIONS_ANSWERS_PATH,\n",
    "    QUESTIONS_EMBEDDINGS_PATH,\n",
    "    QUESTIONS_CONCEPTS_ANSWERS_PATH,\n",
    "    GRAPH_EMBEDDINGS_WITH_COMMENT_PATH,\n",
    "\n",
    "\n",
    "    TRIPLES_PATH_OLD,\n",
    "    ENTITIES_LABELS_PATH_OLD,\n",
    "    PROPERTIES_LABELS_PATH_OLD,\n",
    "    GRAPH_EMBEDDINGS_PATH_OLD,\n",
    "    QUESTIONS_CONCEPTS_ANSWERS_PATH,\n",
    "    GRAPH_EMBEDDINGS_PATH_OLD\n",
    ")\n",
    "\n",
    "from core.NeuralNet.GNN import GCN,RGCN\n",
    "NUM_EPOCHS=1"
   ]
  },
  {
   "cell_type": "code",
   "execution_count": null,
   "metadata": {},
   "outputs": [],
   "source": [
    "logger.remove()\n",
    "logger.add(sys.stderr, level=\"DEBUG\")\n",
    "\n",
    "## CREATE DATA\n",
    "logger.info(\"Creating Data object\")\n",
    "\n",
    "qa_data_builder = QADataBuilder(\n",
    "    triples_path=TRIPLES_PATH,\n",
    "    entities_labels_path=ENTITIES_LABELS_PATH,\n",
    "    properties_labels_path=PROPERTIES_LABELS_PATH,\n",
    "    embeddings_path=GRAPH_EMBEDDINGS_PATH,\n",
    "    questions_answers_path=QUESTIONS_ANSWERS_PATH,\n",
    "    questions_embeddings_path=QUESTIONS_EMBEDDINGS_PATH,\n",
    ")\n",
    "\n",
    "x = qa_data_builder.get_x()\n",
    "train_mask, test_mask, val_mask = qa_data_builder.get_questions_masks()\n",
    "NUM_EPOCHS_PER_QUESTION = int(NUM_EPOCHS / sum(train_mask))\n",
    "\n",
    "## TRAIN MLP\n",
    "logger.info(\"Training MLP\")\n",
    "model = MLP(\n",
    "    num_node_features=(2 * x.shape[1]), dim_hidden_layer=16, num_classes=2\n",
    ")  # we multiply x.shape by two so as to account for question embedding\n",
    "optimizer = torch.optim.Adam(model.parameters(), lr=0.01, weight_decay=5e-4)\n",
    "model.train()\n",
    "\n",
    "for q_index, question_embedding in enumerate(\n",
    "    qa_data_builder.questions_embeddings_masked(train_mask)\n",
    "):  # call the questions_iterator from the instance\n",
    "    question, q_embedding = question_embedding\n",
    "    q_x = qa_data_builder.get_x(\n",
    "        to_concat=q_embedding\n",
    "    )  # add question embedding to node features embedding\n",
    "    q_y = qa_data_builder.get_y(question=question)\n",
    "    data = Data(x=q_x, y=q_y)\n",
    "    if not data.validate():\n",
    "        logger.error(f\"Data object is not valid for question {question}\")\n",
    "\n",
    "    for epoch in range(NUM_EPOCHS_PER_QUESTION):\n",
    "        optimizer.zero_grad()\n",
    "        out = model(data)\n",
    "        loss = F.nll_loss(out, data.y, weight = torch.tensor([0.000001, 1-0.000001]))\n",
    "        loss.backward()\n",
    "        optimizer.step()\n",
    "    logger.debug(\n",
    "        f\"Total Question: {(q_index + 1)}, Total Epochs: {NUM_EPOCHS_PER_QUESTION * (q_index + 1):3d}, Loss: {loss:.4f}\"\n",
    "    )"
   ]
  },
  {
   "cell_type": "code",
   "execution_count": null,
   "metadata": {},
   "outputs": [],
   "source": [
    "def _predict_answer(model, data):\n",
    "    \"\"\"\n",
    "    Returns the predicted answer and node index.\n",
    "    \"\"\"\n",
    "    return model(data).max(dim=1)[0].argmax().item()\n",
    "\n",
    "def evaluate_qa_model(model, qa_data_builder, mask):\n",
    "    model.eval()\n",
    "    correct_predictions = 0\n",
    "    for q_index, question_embedding in enumerate(\n",
    "        qa_data_builder.questions_embeddings_masked(mask)\n",
    "    ):\n",
    "        question, q_embedding = question_embedding\n",
    "        x_q = qa_data_builder.get_x(\n",
    "            to_concat=q_embedding\n",
    "        )  # adding the question embedding to the node embeddings\n",
    "        y_q = qa_data_builder.get_y(question=question)\n",
    "        data = Data(x=x_q, edge_index=qa_data_builder.get_edge_index(), y=y_q)\n",
    "        pred_node_idx = _predict_answer(model, data)\n",
    "        actual_node_idx = qa_data_builder.get_node_index_for_question_answer(question)\n",
    "        if pred_node_idx == actual_node_idx:\n",
    "            logger.debug(f\"Correctly predicted answer to question {question}.\")\n",
    "            correct_predictions += 1\n",
    "        elif pred_node_idx != torch.tensor(0):\n",
    "            logger.debug(\n",
    "                f\"Question: {question}. Predicted answer = {qa_data_builder.index_to_entity[pred_node_idx]}, Actual answer: {qa_data_builder.index_to_entity[actual_node_idx]}\"\n",
    "            )\n",
    "        else:\n",
    "            logger.debug(f\"Could not predict any answer\")\n",
    "    return correct_predictions / (q_index + 1)"
   ]
  },
  {
   "cell_type": "code",
   "execution_count": null,
   "metadata": {},
   "outputs": [],
   "source": [
    "evaluate_qa_model(model=model, qa_data_builder=qa_data_builder, mask=train_mask)"
   ]
  },
  {
   "cell_type": "markdown",
   "metadata": {},
   "source": [
    "## QA Training"
   ]
  },
  {
   "cell_type": "code",
   "execution_count": 2,
   "metadata": {},
   "outputs": [
    {
     "name": "stderr",
     "output_type": "stream",
     "text": [
      "\u001b[32m2023-08-23 15:38:30.529\u001b[0m | \u001b[1mINFO    \u001b[0m | \u001b[36m__main__\u001b[0m:\u001b[36m<module>\u001b[0m:\u001b[36m6\u001b[0m - \u001b[1mCreating Data object\u001b[0m\n"
     ]
    }
   ],
   "source": [
    "# Build data\n",
    "logger.remove()\n",
    "logger.add(sys.stderr, level=\"DEBUG\")\n",
    "\n",
    "## CREATE DATA\n",
    "logger.info(\"Creating Data object\")\n",
    "\n",
    "qa_data_builder = QAMaskBuilder(\n",
    "    triples_path=TRIPLES_PATH_OLD,\n",
    "    entities_labels_path=ENTITIES_LABELS_PATH_OLD,\n",
    "    properties_labels_path=PROPERTIES_LABELS_PATH_OLD,\n",
    "    embeddings_path=GRAPH_EMBEDDINGS_PATH_OLD,\n",
    "    questions_concepts_answers_path=QUESTIONS_CONCEPTS_ANSWERS_PATH,\n",
    "    questions_embeddings_path = QUESTIONS_EMBEDDINGS_PATH\n",
    "    \n",
    ")"
   ]
  },
  {
   "cell_type": "code",
   "execution_count": 3,
   "metadata": {},
   "outputs": [
    {
     "data": {
      "text/plain": [
       "Data(x=[29025, 768], edge_index=[2, 145402], edge_type=[145402])"
      ]
     },
     "execution_count": 3,
     "metadata": {},
     "output_type": "execute_result"
    }
   ],
   "source": [
    "data = qa_data_builder.build_data()\n",
    "data"
   ]
  },
  {
   "cell_type": "code",
   "execution_count": 11,
   "metadata": {},
   "outputs": [
    {
     "name": "stderr",
     "output_type": "stream",
     "text": [
      "\u001b[32m2023-08-23 15:46:19.736\u001b[0m | \u001b[1mINFO    \u001b[0m | \u001b[36m__main__\u001b[0m:\u001b[36m<module>\u001b[0m:\u001b[36m2\u001b[0m - \u001b[1mTraining GNN\u001b[0m\n"
     ]
    }
   ],
   "source": [
    "# TRAIN GNN\n",
    "logger.info(\"Training GNN\")\n",
    "model = GCN(\n",
    "    num_node_features=data.num_node_features*2, dim_hidden_layer=16,num_layers=1, num_classes=2\n",
    ")\n",
    "optimizer = torch.optim.Adam(model.parameters(), lr=0.1, weight_decay=5e-4)"
   ]
  },
  {
   "cell_type": "code",
   "execution_count": 12,
   "metadata": {},
   "outputs": [
    {
     "name": "stderr",
     "output_type": "stream",
     "text": [
      "0it [00:00, ?it/s]"
     ]
    },
    {
     "name": "stderr",
     "output_type": "stream",
     "text": [
      "2705it [00:21, 123.49it/s]\n"
     ]
    }
   ],
   "source": [
    "qa_subgraph_info = []\n",
    "for idx, row in tqdm(qa_data_builder.question_concepts_answers.iterrows()):\n",
    "\n",
    "    q_edge_mask, q_nodes, q_concept_mask, q_answer_mask, q_answer_and_random_nodes_mask =qa_data_builder.get_concepts_and_masks_for_question(question =row[\"question\"], concept_uri= row[\"concepts\"], answer_uri= row[\"answers\"])\n",
    "    q_edge_index = data.edge_index[:,q_edge_mask]\n",
    "    q_edge_type = data.edge_type[q_edge_mask]\n",
    "    q_training_x_mask = qa_data_builder.get_question_training_mask_for_x()\n",
    "    q_y_labels = qa_data_builder.get_question_y_labels()\n",
    "    qa_subgraph_info.append({\"q_edge_mask\":q_edge_mask, \"q_nodes\":q_nodes, \"q_concept_mask\":q_concept_mask, \"q_answer_mask\":q_answer_mask, \"q_answer_and_random_nodes_mask\":q_answer_and_random_nodes_mask,\"q_edge_index\":q_edge_index,\"q_edge_type\":q_edge_type,\"q_training_x_mask\":q_training_x_mask,\"q_y_labels\":q_y_labels})\n"
   ]
  },
  {
   "cell_type": "code",
   "execution_count": 13,
   "metadata": {},
   "outputs": [
    {
     "name": "stderr",
     "output_type": "stream",
     "text": [
      "100%|██████████| 2705/2705 [00:08<00:00, 316.06it/s] \n"
     ]
    },
    {
     "data": {
      "text/plain": [
       "2594"
      ]
     },
     "execution_count": 13,
     "metadata": {},
     "output_type": "execute_result"
    }
   ],
   "source": [
    "# No of questions that have answer node within it\n",
    "count_answers_in_subgraph = 0\n",
    "for item in tqdm(qa_subgraph_info):\n",
    "    if sum(item[\"q_answer_mask\"])>0:\n",
    "        count_answers_in_subgraph += 1\n",
    "count_answers_in_subgraph"
   ]
  },
  {
   "cell_type": "code",
   "execution_count": 14,
   "metadata": {},
   "outputs": [
    {
     "name": "stderr",
     "output_type": "stream",
     "text": [
      "2705it [00:00, 350367.25it/s]"
     ]
    },
    {
     "name": "stdout",
     "output_type": "stream",
     "text": [
      "Average nodes in the subgraphs : 336.93\n",
      "Maximum nodes in the subgraph : 2729\n",
      "Minimum nodes in the subgraph : 4\n"
     ]
    },
    {
     "name": "stderr",
     "output_type": "stream",
     "text": [
      "\n"
     ]
    }
   ],
   "source": [
    "# Average number of nodes in each question\n",
    "q_idx_node_count  = []\n",
    "for idx, item in tqdm(enumerate(qa_subgraph_info)):\n",
    "    node_count = len(item[\"q_nodes\"])\n",
    "    q_idx_node_count.append(node_count)\n",
    "print(\"Average nodes in the subgraphs :\",round(sum(q_idx_node_count)/idx,2))\n",
    "print(\"Maximum nodes in the subgraph :\",max(q_idx_node_count))\n",
    "print(\"Minimum nodes in the subgraph :\",min(q_idx_node_count))"
   ]
  },
  {
   "cell_type": "code",
   "execution_count": 15,
   "metadata": {},
   "outputs": [
    {
     "data": {
      "image/png": "[encoded data removed]",
      "text/plain": [
       "<Figure size 640x480 with 1 Axes>"
      ]
     },
     "metadata": {},
     "output_type": "display_data"
    }
   ],
   "source": [
    "import matplotlib.pyplot as plt\n",
    "# Plot the distribution\n",
    "plt.plot(q_idx_node_count[:])\n",
    "plt.xlabel('Q_idx')\n",
    "plt.ylabel('q_idx_node_count')\n",
    "plt.title('Distribution of subgrapgh node count')\n",
    "plt.show()\n"
   ]
  },
  {
   "cell_type": "code",
   "execution_count": 16,
   "metadata": {},
   "outputs": [
    {
     "data": {
      "text/plain": [
       "array([ 254,  584,  610, ..., 1592, 1271, 2244], dtype=int64)"
      ]
     },
     "execution_count": 16,
     "metadata": {},
     "output_type": "execute_result"
    }
   ],
   "source": [
    "shuffled_indices = np.random.permutation(qa_data_builder.question_concepts_answers.index)\n",
    "shuffled_indices"
   ]
  },
  {
   "cell_type": "code",
   "execution_count": 150,
   "metadata": {},
   "outputs": [
    {
     "name": "stderr",
     "output_type": "stream",
     "text": [
      "\u001b[32m2023-08-23 14:53:34.481\u001b[0m | \u001b[34m\u001b[1mDEBUG   \u001b[0m | \u001b[36m__main__\u001b[0m:\u001b[36m<module>\u001b[0m:\u001b[36m22\u001b[0m - \u001b[34m\u001b[1mEpoch: 000, Loss: 0.6827\u001b[0m\n"
     ]
    },
    {
     "name": "stdout",
     "output_type": "stream",
     "text": [
      "Training for Q 1649 : Which Business Process is composed of component Supply Chain Strategy Management (Seg17)?\n"
     ]
    },
    {
     "name": "stderr",
     "output_type": "stream",
     "text": [
      "\u001b[32m2023-08-23 14:53:36.980\u001b[0m | \u001b[34m\u001b[1mDEBUG   \u001b[0m | \u001b[36m__main__\u001b[0m:\u001b[36m<module>\u001b[0m:\u001b[36m22\u001b[0m - \u001b[34m\u001b[1mEpoch: 050, Loss: 0.4489\u001b[0m\n",
      "\u001b[32m2023-08-23 14:53:39.315\u001b[0m | \u001b[34m\u001b[1mDEBUG   \u001b[0m | \u001b[36m__main__\u001b[0m:\u001b[36m<module>\u001b[0m:\u001b[36m22\u001b[0m - \u001b[34m\u001b[1mEpoch: 100, Loss: 0.4266\u001b[0m\n",
      "\u001b[32m2023-08-23 14:53:41.475\u001b[0m | \u001b[34m\u001b[1mDEBUG   \u001b[0m | \u001b[36m__main__\u001b[0m:\u001b[36m<module>\u001b[0m:\u001b[36m22\u001b[0m - \u001b[34m\u001b[1mEpoch: 150, Loss: 0.4203\u001b[0m\n",
      "\u001b[32m2023-08-23 14:53:43.857\u001b[0m | \u001b[34m\u001b[1mDEBUG   \u001b[0m | \u001b[36m__main__\u001b[0m:\u001b[36m<module>\u001b[0m:\u001b[36m22\u001b[0m - \u001b[34m\u001b[1mEpoch: 000, Loss: 0.7682\u001b[0m\n"
     ]
    },
    {
     "name": "stdout",
     "output_type": "stream",
     "text": [
      "Training for Q 1613 : The process Sales Execution (ETO, Discrete) (Seg193) is part of which process?\n"
     ]
    },
    {
     "name": "stderr",
     "output_type": "stream",
     "text": [
      "\u001b[32m2023-08-23 14:53:46.146\u001b[0m | \u001b[34m\u001b[1mDEBUG   \u001b[0m | \u001b[36m__main__\u001b[0m:\u001b[36m<module>\u001b[0m:\u001b[36m22\u001b[0m - \u001b[34m\u001b[1mEpoch: 050, Loss: 0.5016\u001b[0m\n",
      "\u001b[32m2023-08-23 14:53:48.391\u001b[0m | \u001b[34m\u001b[1mDEBUG   \u001b[0m | \u001b[36m__main__\u001b[0m:\u001b[36m<module>\u001b[0m:\u001b[36m22\u001b[0m - \u001b[34m\u001b[1mEpoch: 100, Loss: 0.4864\u001b[0m\n",
      "\u001b[32m2023-08-23 14:53:50.650\u001b[0m | \u001b[34m\u001b[1mDEBUG   \u001b[0m | \u001b[36m__main__\u001b[0m:\u001b[36m<module>\u001b[0m:\u001b[36m22\u001b[0m - \u001b[34m\u001b[1mEpoch: 150, Loss: 0.4744\u001b[0m\n"
     ]
    }
   ],
   "source": [
    "model.train()\n",
    "limit=1\n",
    "i=0\n",
    "for idx in shuffled_indices:\n",
    "    row = qa_data_builder.question_concepts_answers.loc[idx]\n",
    "    q_embedding = qa_data_builder.questions_to_embeddings[row[\"question\"]]\n",
    "    q_x = qa_data_builder.get_x(to_concat=q_embedding)\n",
    "    q_edge_mask, q_nodes, q_concept_mask, q_answer_mask, q_answer_and_random_nodes_mask =qa_data_builder.get_concepts_and_masks_for_question(question =row[\"question\"], concept_uri= row[\"concepts\"], answer_uri= row[\"answers\"])\n",
    "    q_edge_index = data.edge_index[:,q_edge_mask]\n",
    "    q_edge_type = data.edge_type[q_edge_mask]\n",
    "    q_training_x_mask = qa_data_builder.get_question_training_mask_for_x()\n",
    "    q_y_labels = qa_data_builder.get_question_y_labels()\n",
    "    q_data = Data(x=q_x, edge_index=q_edge_index, edge_type=q_edge_type, train_mask=q_training_x_mask, y=q_y_labels)\n",
    "    print(f'Training for Q {idx} : {row[\"question\"]}')\n",
    "    for epoch in range(200):\n",
    "        optimizer.zero_grad()\n",
    "        out,embedding = model(q_data)\n",
    "        loss = F.nll_loss(out[q_data.train_mask], q_data.y[q_data.train_mask],weight = torch.tensor([1.0,15.0]))\n",
    "        loss.backward()\n",
    "        optimizer.step()\n",
    "        if epoch%50==0:\n",
    "            logger.debug(f\"Epoch: {epoch:03d}, Loss: {loss:.4f}\")\n",
    "    if i==limit:\n",
    "        break;\n",
    "    i+=1"
   ]
  },
  {
   "cell_type": "code",
   "execution_count": 23,
   "metadata": {},
   "outputs": [
    {
     "name": "stderr",
     "output_type": "stream",
     "text": [
      "\u001b[32m2023-08-23 18:29:11.954\u001b[0m | \u001b[34m\u001b[1mDEBUG   \u001b[0m | \u001b[36m__main__\u001b[0m:\u001b[36m<module>\u001b[0m:\u001b[36m28\u001b[0m - \u001b[34m\u001b[1manswers predicted\u001b[0m\n"
     ]
    },
    {
     "name": "stdout",
     "output_type": "stream",
     "text": [
      "Predicting for Q 254 : What's an Customer Claims Management?\n"
     ]
    },
    {
     "name": "stderr",
     "output_type": "stream",
     "text": [
      "\u001b[32m2023-08-23 18:29:12.277\u001b[0m | \u001b[34m\u001b[1mDEBUG   \u001b[0m | \u001b[36m__main__\u001b[0m:\u001b[36m<module>\u001b[0m:\u001b[36m28\u001b[0m - \u001b[34m\u001b[1manswers predicted\u001b[0m\n"
     ]
    },
    {
     "name": "stdout",
     "output_type": "stream",
     "text": [
      "Predicting for Q 584 : To which process is Execute projects belonging to?\n"
     ]
    }
   ],
   "source": [
    "limit=2\n",
    "i=0\n",
    "# Evaluation\n",
    "res = []\n",
    "for idx in shuffled_indices:\n",
    "    \n",
    "    if i==limit:\n",
    "        break;\n",
    "\n",
    "    row = qa_data_builder.question_concepts_answers.loc[idx]\n",
    "    q_embedding = qa_data_builder.questions_to_embeddings[row[\"question\"]]\n",
    "    q_x = qa_data_builder.get_x(to_concat=q_embedding)\n",
    "    q_edge_mask, q_nodes, q_concept_mask, q_answer_mask, q_answer_and_random_nodes_mask =qa_data_builder.get_concepts_and_masks_for_question(question =row[\"question\"], concept_uri= row[\"concepts\"], answer_uri= row[\"answers\"])\n",
    "    q_edge_index = data.edge_index[:,q_edge_mask]\n",
    "    q_edge_type = data.edge_type[q_edge_mask]\n",
    "    q_training_x_mask = qa_data_builder.get_question_training_mask_for_x()\n",
    "    q_y_labels = qa_data_builder.get_question_y_labels()\n",
    "    q_data = Data(x=q_x,edge_index=q_edge_index,edge_type=q_edge_type,train_mask =q_training_x_mask,y=q_y_labels)\n",
    "    model.eval()\n",
    "    print(f'Predicting for Q {idx} : {row[\"question\"]}')\n",
    "    out,_ = model(q_data)\n",
    "    predicted_answer_nodes = torch.where(out.argmax(dim=1))[0]\n",
    "    predicted_answer_node_probabilities = out.max(dim=1)[0][predicted_answer_nodes]\n",
    "    sorted_probability_indices = torch.argsort(predicted_answer_node_probabilities, descending= True)\n",
    "    count_predicted_nodes =len(predicted_answer_nodes)\n",
    "    actual_answer_nodes = q_nodes[q_answer_mask].tolist()\n",
    "    if count_predicted_nodes > 0:\n",
    "        logger.debug(f\"answers predicted\")\n",
    "        is_predicted_in_actual_answers = bool(set(actual_answer_nodes) & set(predicted_answer_nodes[sorted_probability_indices].tolist()))\n",
    "        res.append((idx, actual_answer_nodes, predicted_answer_nodes[sorted_probability_indices].tolist(),predicted_answer_node_probabilities[sorted_probability_indices].tolist(),count_predicted_nodes,is_predicted_in_actual_answers))\n",
    "    \n",
    "    \n",
    "    else:\n",
    "        logger.debug(f\"NO answers found\")\n",
    "        res.append((idx, actual_answer_nodes, np.nan,np.nan,0,False))\n",
    "    \n",
    "    i+=1"
   ]
  },
  {
   "cell_type": "code",
   "execution_count": 24,
   "metadata": {},
   "outputs": [
    {
     "data": {
      "text/html": [
       "<div>\n",
       "<style scoped>\n",
       "    .dataframe tbody tr th:only-of-type {\n",
       "        vertical-align: middle;\n",
       "    }\n",
       "\n",
       "    .dataframe tbody tr th {\n",
       "        vertical-align: top;\n",
       "    }\n",
       "\n",
       "    .dataframe thead th {\n",
       "        text-align: right;\n",
       "    }\n",
       "</style>\n",
       "<table border=\"1\" class=\"dataframe\">\n",
       "  <thead>\n",
       "    <tr style=\"text-align: right;\">\n",
       "      <th></th>\n",
       "      <th>q_idx</th>\n",
       "      <th>actual_answer_nodes</th>\n",
       "      <th>predicted_answer_nodes</th>\n",
       "      <th>probabilities_of_answer_nodes</th>\n",
       "      <th>count_predicted_nodes</th>\n",
       "      <th>is_predicted_in_actual</th>\n",
       "    </tr>\n",
       "  </thead>\n",
       "  <tbody>\n",
       "    <tr>\n",
       "      <th>0</th>\n",
       "      <td>254</td>\n",
       "      <td>[19288]</td>\n",
       "      <td>[21333, 28099, 7, 6718, 9158, 21334, 1600, 180...</td>\n",
       "      <td>[-0.6863352060317993, -0.6863917112350464, -0....</td>\n",
       "      <td>28974</td>\n",
       "      <td>True</td>\n",
       "    </tr>\n",
       "    <tr>\n",
       "      <th>1</th>\n",
       "      <td>584</td>\n",
       "      <td>[20149, 20150]</td>\n",
       "      <td>[21333, 28099, 7, 6718, 9158, 18843, 21334, 16...</td>\n",
       "      <td>[-0.6844812035560608, -0.6845376491546631, -0....</td>\n",
       "      <td>29025</td>\n",
       "      <td>True</td>\n",
       "    </tr>\n",
       "  </tbody>\n",
       "</table>\n",
       "</div>"
      ],
      "text/plain": [
       "   q_idx actual_answer_nodes  \\\n",
       "0    254             [19288]   \n",
       "1    584      [20149, 20150]   \n",
       "\n",
       "                              predicted_answer_nodes  \\\n",
       "0  [21333, 28099, 7, 6718, 9158, 21334, 1600, 180...   \n",
       "1  [21333, 28099, 7, 6718, 9158, 18843, 21334, 16...   \n",
       "\n",
       "                       probabilities_of_answer_nodes  count_predicted_nodes  \\\n",
       "0  [-0.6863352060317993, -0.6863917112350464, -0....                  28974   \n",
       "1  [-0.6844812035560608, -0.6845376491546631, -0....                  29025   \n",
       "\n",
       "   is_predicted_in_actual  \n",
       "0                    True  \n",
       "1                    True  "
      ]
     },
     "execution_count": 24,
     "metadata": {},
     "output_type": "execute_result"
    }
   ],
   "source": [
    "eval_res = pd.DataFrame.from_records(res,columns=[\"q_idx\",\"actual_answer_nodes\",\"predicted_answer_nodes\",\"probabilities_of_answer_nodes\",\"count_predicted_nodes\",\"is_predicted_in_actual\"])\n",
    "eval_res"
   ]
  },
  {
   "cell_type": "code",
   "execution_count": 147,
   "metadata": {},
   "outputs": [
    {
     "name": "stdout",
     "output_type": "stream",
     "text": [
      "Total nodes in the subgraph 538\n"
     ]
    },
    {
     "data": {
      "text/plain": [
       "14"
      ]
     },
     "execution_count": 147,
     "metadata": {},
     "output_type": "execute_result"
    }
   ],
   "source": [
    "q_idx = 254\n",
    "#(q_edge_mask, q_nodes, q_concept_mask, q_answer_mask, q_answer_and_random_nodes_mask,q_edge_index,q_edge_type,q_training_x_mask,q_y_labels)\n",
    "print(\"Total nodes in the subgraph\",len(set(qa_subgraph_info[q_idx]['q_nodes'].tolist())))\n",
    "\n",
    "len(set(eval_res.loc[eval_res[\"q_idx\"]==q_idx,\"predicted_answer_nodes\"].iloc[0]) & set(qa_subgraph_info[q_idx]['q_nodes'].tolist()))\n",
    "#set(eval_res.loc[eval_res[\"q_idx\"]==q_idx,\"predicted_answer_nodes\"].iloc[0]) & set(qa_subgraph_info[q_idx]['q_nodes'].tolist())"
   ]
  },
  {
   "cell_type": "code",
   "execution_count": 133,
   "metadata": {},
   "outputs": [
    {
     "name": "stdout",
     "output_type": "stream",
     "text": [
      "Question: What's an Customer Claims Management?\n",
      "Concepts: ['http://www.signavio.com/opal/SAP/RBA/BCM/Customer%20Claims%20Management']\n",
      "Actual Answer: [19288] -- URIs :['http://www.signavio.com/opal/SAP/RBA/BCM/BusinessCapability']\n",
      "Actua answer is not in the predicted nodes list.\n",
      "Preicted Node: 19361 -- URI:http://www.signavio.com/opal/SAP/RBA/BCM/Customer%20Service%20and%20Support\n",
      "Preicted Node: 20514 -- URI:http://www.signavio.com/opal/SAP/RSA/SCM/Customer%20Claims%20Management%20%28S%204%2C%20Vistex%20S%204%29\n",
      "Preicted Node: 20512 -- URI:http://www.signavio.com/opal/SAP/RSA/SCM/Customer%20Claims%20Management%20%28S%204%20CLD%29\n",
      "Preicted Node: 18924 -- URI:http://www.signavio.com/opal/SAP/RBA/BAR/Manage%20customer%20recovery%20claims%20%28BA132%29\n",
      "Preicted Node: 20513 -- URI:http://www.signavio.com/opal/SAP/RSA/SCM/Customer%20Claims%20Management%20%28S%204%29\n",
      "Preicted Node: 20508 -- URI:http://www.signavio.com/opal/SAP/RSA/SCM/Customer%20Claims%20Management%20%28C4C%29\n",
      "Preicted Node: 20511 -- URI:http://www.signavio.com/opal/SAP/RSA/SCM/Customer%20Claims%20Management%20%28ERP%2C%20Vistex%20ERP%29\n",
      "Preicted Node: 20510 -- URI:http://www.signavio.com/opal/SAP/RSA/SCM/Customer%20Claims%20Management%20%28ERP%29\n",
      "Preicted Node: 20509 -- URI:http://www.signavio.com/opal/SAP/RSA/SCM/Customer%20Claims%20Management%20%28CRM%29\n",
      "Preicted Node: 19332 -- URI:http://www.signavio.com/opal/SAP/RBA/BCM/Customer%20-%20L4\n",
      "Preicted Node: 19274 -- URI:http://www.signavio.com/opal/SAP/RBA/BCM/Business%20Capability\n",
      "Preicted Node: 19288 -- URI:http://www.signavio.com/opal/SAP/RBA/BCM/BusinessCapability\n",
      "Preicted Node: 29023 -- URI:http://www.w3.org/2002/07/owl#Class\n",
      "Preicted Node: 28970 -- URI:http://www.signavio.com/opal/core/SAP%20-%20Reference%20Business%20Architecture%20-%20Business%20Capability%20Model%20-%202.1\n",
      "Preicted Node: 5371 -- URI:http://www.signavio.com/opal/APQC/PPM/PF/Personnel%20cost%20to%20perform%20the%20processes%20manage%20sales%20orders%2C%20manage%20customer%20service%20requests%20inquiries%2C%20and%20manage%20customer%20complaints%20per%20active%20customer\n",
      "Preicted Node: 2375 -- URI:http://www.signavio.com/opal/APQC/PPM/PF/Contact%20center%20systems%20cost%20to%20perform%20the%20processes%20manage%20sales%20orders%2C%20manage%20customer%20service%20requests%20inquiries%2C%20and%20manage%20customer%20complaints%20per%20active%20customer\n",
      "Preicted Node: 5372 -- URI:http://www.signavio.com/opal/APQC/PPM/PF/Personnel%20cost%20to%20perform%20the%20processes%20manage%20sales%20orders%2C%20manage%20customer%20service%20requests%20inquiries%2C%20and%20manage%20customer%20complaints%20per%20inbound%20contact\n",
      "Preicted Node: 4339 -- URI:http://www.signavio.com/opal/APQC/PPM/PF/Outsourced%20cost%20to%20perform%20the%20processes%20manage%20customer%20service%20requests%20inquiries%20and%20manage%20customer%20complaints%20per%20web%20self-service%20contact\n",
      "Preicted Node: 2376 -- URI:http://www.signavio.com/opal/APQC/PPM/PF/Contact%20center%20systems%20cost%20to%20perform%20the%20processes%20manage%20sales%20orders%2C%20manage%20customer%20service%20requests%20inquiries%2C%20and%20manage%20customer%20complaints%20per%20inbound%20contact\n",
      "Preicted Node: 2268 -- URI:http://www.signavio.com/opal/APQC/PPM/PF/Centrally%20managed%20systems%20cost%20to%20perform%20the%20processes%20manage%20sales%20orders%2C%20manage%20customer%20service%20requests%20inquiries%2C%20and%20manage%20customer%20complaints%20per%20active%20customer\n",
      "Preicted Node: 4342 -- URI:http://www.signavio.com/opal/APQC/PPM/PF/Outsourced%20cost%20to%20perform%20the%20processes%20manage%20sales%20orders%2C%20manage%20customer%20service%20requests%20inquiries%2C%20and%20manage%20customer%20complaints%20per%20active%20customer\n",
      "Preicted Node: 2269 -- URI:http://www.signavio.com/opal/APQC/PPM/PF/Centrally%20managed%20systems%20cost%20to%20perform%20the%20processes%20manage%20sales%20orders%2C%20manage%20customer%20service%20requests%20inquiries%2C%20and%20manage%20customer%20complaints%20per%20inbound%20contact\n",
      "Preicted Node: 4307 -- URI:http://www.signavio.com/opal/APQC/PPM/PF/Outsourced%20cost%20to%20perform%20the%20process%20manage%20sales%20orders%2C%20manage%20customer%20requests%20inquiries%2C%20and%20manage%20customer%20complaints%20per%20call%20contact\n"
     ]
    }
   ],
   "source": [
    "limit=1\n",
    "i=0\n",
    "for idx, row in eval_res.iterrows():\n",
    "    if row['count_predicted_nodes'] < 30 and row['count_predicted_nodes'] >0 :\n",
    "        print(f'Question: {qa_data_builder.question_concepts_answers.loc[row[\"q_idx\"],\"question\"]}')\n",
    "        print(f'Concepts: {qa_data_builder.question_concepts_answers.loc[row[\"q_idx\"],\"concepts\"]}')\n",
    "        print(f'Actual Answer: {row[\"actual_answer_nodes\"]} -- URIs :{qa_data_builder.question_concepts_answers.loc[row[\"q_idx\"],\"answers\"]}')\n",
    "        if row[\"is_predicted_in_actual\"]:\n",
    "            for node in row[\"predicted_answer_nodes\"]:\n",
    "                \n",
    "                print(f'Preicted Node: {node} -- URI:{qa_data_builder.index_to_entity[node]}')\n",
    "        else:\n",
    "            print(\"Actua answer is not in the predicted nodes list.\")\n",
    "            for node in row[\"predicted_answer_nodes\"]:\n",
    "                print(f'Preicted Node: {node} -- URI:{qa_data_builder.index_to_entity[node]}')\n",
    "    \n",
    "    if i==limit:\n",
    "        break;\n",
    "    i+=1"
   ]
  }
 ],
 "metadata": {
  "kernelspec": {
   "display_name": "psmg-imkg-gnn-qa-b42qFiTl",
   "language": "python",
   "name": "python3"
  },
  "language_info": {
   "codemirror_mode": {
    "name": "ipython",
    "version": 3
   },
   "file_extension": ".py",
   "mimetype": "text/x-python",
   "name": "python",
   "nbconvert_exporter": "python",
   "pygments_lexer": "ipython3",
   "version": "3.11.1"
  },
  "orig_nbformat": 4
 },
 "nbformat": 4,
 "nbformat_minor": 2
}
