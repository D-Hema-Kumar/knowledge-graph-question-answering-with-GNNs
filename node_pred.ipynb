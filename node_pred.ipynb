{
 "cells": [
  {
   "cell_type": "code",
   "execution_count": 3,
   "metadata": {},
   "outputs": [],
   "source": [
    "from core.NeuralNet.MLP import MLP\n",
    "from core.experiments.utils import (save_experiment_results_to_file, evaluate_model)\n",
    "from core.experiments.ContextClasses import (DataContext, TrainingContext)\n",
    "from core.experiments.binary_classification.binary_classification_experiment import (\n",
    "    BinaryClassificationExperiment,\n",
    ")\n",
    "from config.config import (\n",
    "    TRIPLES_PATH,\n",
    "    ENTITIES_LABELS_PATH,\n",
    "    PROPERTIES_LABELS_PATH,\n",
    "    GRAPH_EMBEDDINGS_PATH,\n",
    "    EXPERIMENT_RESULTS_PATH\n",
    ")\n",
    "from core.NeuralNet.GNN import GCN\n",
    "from loguru import logger\n",
    "import sys\n",
    "import torch\n",
    "# For Multi class type classification\n",
    "from core.ToTorch.DataBuilder import NodeTypeDataBuilder\n",
    "from torch_geometric.data import Data\n",
    "import torch.nn.functional as F\n",
    "from torch_geometric.nn import GCNConv,MessagePassing\n",
    "\n",
    "import numpy as np\n",
    "import pandas as pd\n",
    "pd.set_option('display.max_colwidth', 0)\n",
    "import matplotlib.pyplot as plt\n",
    "import os\n",
    "\n",
    "import datetime"
   ]
  },
  {
   "cell_type": "code",
   "execution_count": 2,
   "metadata": {},
   "outputs": [
    {
     "data": {
      "text/plain": [
       "'./data/question_embeddings\\\\entities.csv'"
      ]
     },
     "execution_count": 2,
     "metadata": {},
     "output_type": "execute_result"
    }
   ],
   "source": [
    "base_path= \"./data/question_embeddings\"\n",
    "os.path.join(base_path, \"entities.csv\")"
   ]
  },
  {
   "cell_type": "code",
   "execution_count": 13,
   "metadata": {},
   "outputs": [
    {
     "name": "stdout",
     "output_type": "stream",
     "text": [
      "./data/question_embeddings\\entities.csv\n"
     ]
    },
    {
     "data": {
      "text/plain": [
       "'./data/question_embeddings\\\\entities.csv'"
      ]
     },
     "execution_count": 13,
     "metadata": {},
     "output_type": "execute_result"
    }
   ],
   "source": [
    "base_path= \"./data/question_embeddings\"\n",
    "filename = \"entities.csv\"\n",
    "fp = os.path.join(\"./data/question_embeddings\", \"entities.csv\")\n",
    "print(fp)\n",
    "os.path.join(\"./data/question_embeddings\", \"entities.csv\")"
   ]
  },
  {
   "cell_type": "code",
   "execution_count": 5,
   "metadata": {},
   "outputs": [
    {
     "name": "stdout",
     "output_type": "stream",
     "text": [
      "key  a :  Value  1\n",
      "key  b :  Value  2\n",
      "(0, 'a') (1, 'b')\n"
     ]
    }
   ],
   "source": [
    "dic = {'a':1,'b':2}\n",
    "\n",
    "for key in dic:\n",
    "    print('key ',key,':',' Value ',dic[key])\n",
    "key, val = enumerate(dic)\n",
    "print(key,val)\n"
   ]
  },
  {
   "cell_type": "markdown",
   "metadata": {},
   "source": [
    "## Multi class classification"
   ]
  },
  {
   "cell_type": "code",
   "execution_count": 14,
   "metadata": {},
   "outputs": [
    {
     "data": {
      "text/plain": [
       "<core.ToTorch.DataBuilder.NodeTypeDataBuilder at 0x1da9298a8d0>"
      ]
     },
     "execution_count": 14,
     "metadata": {},
     "output_type": "execute_result"
    }
   ],
   "source": [
    "#databuilder\n",
    "data_builder = NodeTypeDataBuilder(\n",
    "    triples_path=TRIPLES_PATH,\n",
    "    entities_labels_path=ENTITIES_LABELS_PATH,\n",
    "    properties_labels_path=PROPERTIES_LABELS_PATH,\n",
    "    embeddings_path=GRAPH_EMBEDDINGS_PATH,\n",
    "    labeler=None,\n",
    ")\n",
    "data_builder"
   ]
  },
  {
   "cell_type": "code",
   "execution_count": 15,
   "metadata": {},
   "outputs": [],
   "source": [
    "x = data_builder.get_x()\n",
    "edge_index = data_builder.get_edge_index()\n",
    "y = data_builder.get_y()\n",
    "train_mask, val_mask, test_mask = data_builder.get_entities_masks()\n",
    "\n",
    "data = Data(\n",
    "    x=x,\n",
    "    edge_index=edge_index,\n",
    "    y=y,\n",
    "    train_mask=train_mask,\n",
    "    val_mask=val_mask,\n",
    "    test_mask=test_mask,\n",
    ")\n"
   ]
  },
  {
   "cell_type": "code",
   "execution_count": 16,
   "metadata": {},
   "outputs": [
    {
     "data": {
      "text/plain": [
       "Data(x=[57047, 768], edge_index=[2, 545165], y=[57047], train_mask=[57047], val_mask=[57047], test_mask=[57047])"
      ]
     },
     "execution_count": 16,
     "metadata": {},
     "output_type": "execute_result"
    }
   ],
   "source": [
    "data"
   ]
  },
  {
   "cell_type": "code",
   "execution_count": 23,
   "metadata": {},
   "outputs": [
    {
     "name": "stdout",
     "output_type": "stream",
     "text": [
      "Total Classes:  105\n"
     ]
    }
   ],
   "source": [
    "print('Total Classes: ',len(set(data.y.tolist())))"
   ]
  },
  {
   "cell_type": "code",
   "execution_count": 17,
   "metadata": {},
   "outputs": [],
   "source": [
    "class GCN_test(torch.nn.Module):\n",
    "    def __init__(self, num_node_features, dim_hidden_layer,num_layers, num_classes):\n",
    "        super().__init__()\n",
    "        #self.conv1 = GCNConv(num_node_features, dim_hidden_layer)\n",
    "        #self.conv2 = GCNConv(dim_hidden_layer, num_classes)\n",
    "        layers = []\n",
    "        input_dim, output_dim = num_node_features, dim_hidden_layer\n",
    "\n",
    "        for _ in range(num_layers-1):\n",
    "            layers = layers+[GCNConv(in_channels=input_dim,out_channels=output_dim),torch.nn.ReLU(),torch.nn.Dropout(p=0.2)]\n",
    "            \n",
    "            input_dim = dim_hidden_layer\n",
    "        layers = layers+[GCNConv(in_channels=input_dim,out_channels=num_classes)]\n",
    "        self.layers = torch.nn.ModuleList(layers)\n",
    "\n",
    "    def forward(self, data):\n",
    "        x, edge_index = data.x, data.edge_index\n",
    "        embeddings = []\n",
    "        for layer in self.layers:\n",
    "            if isinstance(layer,MessagePassing):\n",
    "                x = layer(x,edge_index)\n",
    "                embeddings.append(x.clone())\n",
    "            else:\n",
    "                x=layer(x)\n",
    "            \n",
    "        return F.log_softmax(x, dim=1), embeddings"
   ]
  },
  {
   "cell_type": "code",
   "execution_count": 18,
   "metadata": {},
   "outputs": [],
   "source": [
    "NUM_EPOCHS = 10"
   ]
  },
  {
   "cell_type": "code",
   "execution_count": 20,
   "metadata": {},
   "outputs": [
    {
     "name": "stderr",
     "output_type": "stream",
     "text": [
      "\u001b[32m2023-08-10 10:56:53.173\u001b[0m | \u001b[1mINFO    \u001b[0m | \u001b[36m__main__\u001b[0m:\u001b[36m<module>\u001b[0m:\u001b[36m2\u001b[0m - \u001b[1mTraining MLP\u001b[0m\n",
      "\u001b[32m2023-08-10 10:56:53.323\u001b[0m | \u001b[34m\u001b[1mDEBUG   \u001b[0m | \u001b[36m__main__\u001b[0m:\u001b[36m<module>\u001b[0m:\u001b[36m16\u001b[0m - \u001b[34m\u001b[1mEpoch: 000, Loss: 4.7041\u001b[0m\n",
      "\u001b[32m2023-08-10 10:56:53.465\u001b[0m | \u001b[34m\u001b[1mDEBUG   \u001b[0m | \u001b[36m__main__\u001b[0m:\u001b[36m<module>\u001b[0m:\u001b[36m16\u001b[0m - \u001b[34m\u001b[1mEpoch: 001, Loss: 4.6738\u001b[0m\n",
      "\u001b[32m2023-08-10 10:56:53.593\u001b[0m | \u001b[34m\u001b[1mDEBUG   \u001b[0m | \u001b[36m__main__\u001b[0m:\u001b[36m<module>\u001b[0m:\u001b[36m16\u001b[0m - \u001b[34m\u001b[1mEpoch: 002, Loss: 4.6445\u001b[0m\n",
      "\u001b[32m2023-08-10 10:56:53.731\u001b[0m | \u001b[34m\u001b[1mDEBUG   \u001b[0m | \u001b[36m__main__\u001b[0m:\u001b[36m<module>\u001b[0m:\u001b[36m16\u001b[0m - \u001b[34m\u001b[1mEpoch: 003, Loss: 4.6098\u001b[0m\n",
      "\u001b[32m2023-08-10 10:56:53.865\u001b[0m | \u001b[34m\u001b[1mDEBUG   \u001b[0m | \u001b[36m__main__\u001b[0m:\u001b[36m<module>\u001b[0m:\u001b[36m16\u001b[0m - \u001b[34m\u001b[1mEpoch: 004, Loss: 4.5687\u001b[0m\n",
      "\u001b[32m2023-08-10 10:56:54.006\u001b[0m | \u001b[34m\u001b[1mDEBUG   \u001b[0m | \u001b[36m__main__\u001b[0m:\u001b[36m<module>\u001b[0m:\u001b[36m16\u001b[0m - \u001b[34m\u001b[1mEpoch: 005, Loss: 4.5210\u001b[0m\n",
      "\u001b[32m2023-08-10 10:56:54.142\u001b[0m | \u001b[34m\u001b[1mDEBUG   \u001b[0m | \u001b[36m__main__\u001b[0m:\u001b[36m<module>\u001b[0m:\u001b[36m16\u001b[0m - \u001b[34m\u001b[1mEpoch: 006, Loss: 4.4670\u001b[0m\n",
      "\u001b[32m2023-08-10 10:56:54.285\u001b[0m | \u001b[34m\u001b[1mDEBUG   \u001b[0m | \u001b[36m__main__\u001b[0m:\u001b[36m<module>\u001b[0m:\u001b[36m16\u001b[0m - \u001b[34m\u001b[1mEpoch: 007, Loss: 4.4039\u001b[0m\n",
      "\u001b[32m2023-08-10 10:56:54.420\u001b[0m | \u001b[34m\u001b[1mDEBUG   \u001b[0m | \u001b[36m__main__\u001b[0m:\u001b[36m<module>\u001b[0m:\u001b[36m16\u001b[0m - \u001b[34m\u001b[1mEpoch: 008, Loss: 4.3362\u001b[0m\n",
      "\u001b[32m2023-08-10 10:56:54.560\u001b[0m | \u001b[34m\u001b[1mDEBUG   \u001b[0m | \u001b[36m__main__\u001b[0m:\u001b[36m<module>\u001b[0m:\u001b[36m16\u001b[0m - \u001b[34m\u001b[1mEpoch: 009, Loss: 4.2598\u001b[0m\n"
     ]
    }
   ],
   "source": [
    "# TRAIN MLP\n",
    "logger.info(\"Training MLP\")\n",
    "mlp_model = MLP(\n",
    "    num_node_features=data.num_node_features, dim_hidden_layer=16, num_classes=len(set(data.y.tolist()))\n",
    ")\n",
    "optimizer = torch.optim.Adam(mlp_model.parameters(), lr=0.01, weight_decay=5e-4)\n",
    "mlp_model.train()\n",
    "\n",
    "for epoch in range(NUM_EPOCHS):\n",
    "    optimizer.zero_grad()\n",
    "    out = mlp_model(data)\n",
    "    loss = F.nll_loss(out[data.train_mask], data.y[data.train_mask])\n",
    "    loss.backward()\n",
    "    optimizer.step()\n",
    "    if epoch%1==0:\n",
    "        logger.debug(f\"Epoch: {epoch:03d}, Loss: {loss:.4f}\")"
   ]
  },
  {
   "cell_type": "code",
   "execution_count": 21,
   "metadata": {},
   "outputs": [
    {
     "name": "stdout",
     "output_type": "stream",
     "text": [
      "MLP accuracy 22.36%\n"
     ]
    }
   ],
   "source": [
    "mlp_model.eval()\n",
    "pred = mlp_model(data).argmax(dim=1)\n",
    "correct_predictions_mask = pred[data.test_mask] == data.y[data.test_mask]\n",
    "incorrect_predictions_mask = pred[data.test_mask] != data.y[data.test_mask]\n",
    "accuracy = sum(correct_predictions_mask)/len(correct_predictions_mask)\n",
    "print(\"MLP accuracy\",'{:.2%}'.format(accuracy.item()))"
   ]
  },
  {
   "cell_type": "code",
   "execution_count": 24,
   "metadata": {},
   "outputs": [
    {
     "name": "stderr",
     "output_type": "stream",
     "text": [
      "\u001b[32m2023-08-10 10:58:21.594\u001b[0m | \u001b[1mINFO    \u001b[0m | \u001b[36m__main__\u001b[0m:\u001b[36m<module>\u001b[0m:\u001b[36m2\u001b[0m - \u001b[1mTraining GNN\u001b[0m\n",
      "\u001b[32m2023-08-10 10:58:25.648\u001b[0m | \u001b[34m\u001b[1mDEBUG   \u001b[0m | \u001b[36m__main__\u001b[0m:\u001b[36m<module>\u001b[0m:\u001b[36m16\u001b[0m - \u001b[34m\u001b[1mEpoch: 000, Loss: 4.6702\u001b[0m\n",
      "\u001b[32m2023-08-10 10:58:30.789\u001b[0m | \u001b[34m\u001b[1mDEBUG   \u001b[0m | \u001b[36m__main__\u001b[0m:\u001b[36m<module>\u001b[0m:\u001b[36m16\u001b[0m - \u001b[34m\u001b[1mEpoch: 001, Loss: 4.0498\u001b[0m\n",
      "\u001b[32m2023-08-10 10:58:34.704\u001b[0m | \u001b[34m\u001b[1mDEBUG   \u001b[0m | \u001b[36m__main__\u001b[0m:\u001b[36m<module>\u001b[0m:\u001b[36m16\u001b[0m - \u001b[34m\u001b[1mEpoch: 002, Loss: 3.6241\u001b[0m\n",
      "\u001b[32m2023-08-10 10:58:38.551\u001b[0m | \u001b[34m\u001b[1mDEBUG   \u001b[0m | \u001b[36m__main__\u001b[0m:\u001b[36m<module>\u001b[0m:\u001b[36m16\u001b[0m - \u001b[34m\u001b[1mEpoch: 003, Loss: 3.4093\u001b[0m\n",
      "\u001b[32m2023-08-10 10:58:42.359\u001b[0m | \u001b[34m\u001b[1mDEBUG   \u001b[0m | \u001b[36m__main__\u001b[0m:\u001b[36m<module>\u001b[0m:\u001b[36m16\u001b[0m - \u001b[34m\u001b[1mEpoch: 004, Loss: 3.1806\u001b[0m\n",
      "\u001b[32m2023-08-10 10:58:45.586\u001b[0m | \u001b[34m\u001b[1mDEBUG   \u001b[0m | \u001b[36m__main__\u001b[0m:\u001b[36m<module>\u001b[0m:\u001b[36m16\u001b[0m - \u001b[34m\u001b[1mEpoch: 005, Loss: 3.3679\u001b[0m\n",
      "\u001b[32m2023-08-10 10:58:48.840\u001b[0m | \u001b[34m\u001b[1mDEBUG   \u001b[0m | \u001b[36m__main__\u001b[0m:\u001b[36m<module>\u001b[0m:\u001b[36m16\u001b[0m - \u001b[34m\u001b[1mEpoch: 006, Loss: 3.0339\u001b[0m\n",
      "\u001b[32m2023-08-10 10:58:51.971\u001b[0m | \u001b[34m\u001b[1mDEBUG   \u001b[0m | \u001b[36m__main__\u001b[0m:\u001b[36m<module>\u001b[0m:\u001b[36m16\u001b[0m - \u001b[34m\u001b[1mEpoch: 007, Loss: 3.0493\u001b[0m\n",
      "\u001b[32m2023-08-10 10:58:55.171\u001b[0m | \u001b[34m\u001b[1mDEBUG   \u001b[0m | \u001b[36m__main__\u001b[0m:\u001b[36m<module>\u001b[0m:\u001b[36m16\u001b[0m - \u001b[34m\u001b[1mEpoch: 008, Loss: 3.0731\u001b[0m\n",
      "\u001b[32m2023-08-10 10:58:58.430\u001b[0m | \u001b[34m\u001b[1mDEBUG   \u001b[0m | \u001b[36m__main__\u001b[0m:\u001b[36m<module>\u001b[0m:\u001b[36m16\u001b[0m - \u001b[34m\u001b[1mEpoch: 009, Loss: 3.0684\u001b[0m\n"
     ]
    }
   ],
   "source": [
    "# TRAIN GNN\n",
    "logger.info(\"Training GNN\")\n",
    "model = GCN_test(\n",
    "    num_node_features=data.num_node_features, dim_hidden_layer=256,num_layers=3, num_classes=len(set(data.y.tolist()))\n",
    ")\n",
    "optimizer = torch.optim.Adam(model.parameters(), lr=0.01, weight_decay=5e-4)\n",
    "model.train()\n",
    "\n",
    "for epoch in range(NUM_EPOCHS):\n",
    "    optimizer.zero_grad()\n",
    "    out,embedding = model(data)\n",
    "    loss = F.nll_loss(out[data.train_mask], data.y[data.train_mask])\n",
    "    loss.backward()\n",
    "    optimizer.step()\n",
    "    if epoch%1==0:\n",
    "        logger.debug(f\"Epoch: {epoch:03d}, Loss: {loss:.4f}\")"
   ]
  },
  {
   "cell_type": "code",
   "execution_count": 25,
   "metadata": {},
   "outputs": [
    {
     "name": "stdout",
     "output_type": "stream",
     "text": [
      "GCN testing accuracy 16.90%\n"
     ]
    }
   ],
   "source": [
    "model.eval()\n",
    "pred_,_ = model(data)\n",
    "pred = pred_.argmax(dim=1)\n",
    "correct_predictions_mask = pred[data.test_mask] == data.y[data.test_mask]\n",
    "incorrect_predictions_mask = pred[data.test_mask] != data.y[data.test_mask]\n",
    "accuracy = sum(correct_predictions_mask)/len(correct_predictions_mask)\n",
    "print(\"GCN testing accuracy\",'{:.2%}'.format(accuracy.item()))"
   ]
  },
  {
   "cell_type": "code",
   "execution_count": 26,
   "metadata": {},
   "outputs": [
    {
     "name": "stdout",
     "output_type": "stream",
     "text": [
      "GCN Validation accuracy 17.05%\n"
     ]
    }
   ],
   "source": [
    "model.eval()\n",
    "pred_,_ = model(data)\n",
    "pred = pred_.argmax(dim=1)\n",
    "correct_predictions_mask = pred[data.val_mask] == data.y[data.val_mask]\n",
    "incorrect_predictions_mask = pred[data.val_mask] != data.y[data.val_mask]\n",
    "accuracy = sum(correct_predictions_mask)/len(correct_predictions_mask)\n",
    "print(\"GCN Validation accuracy\",'{:.2%}'.format(accuracy.item()))"
   ]
  },
  {
   "cell_type": "code",
   "execution_count": 27,
   "metadata": {},
   "outputs": [
    {
     "name": "stdout",
     "output_type": "stream",
     "text": [
      "GCN Training accuracy 16.05%\n"
     ]
    }
   ],
   "source": [
    "model.eval()\n",
    "pred_,_ = model(data)\n",
    "pred = pred_.argmax(dim=1)\n",
    "correct_predictions_mask = pred[data.train_mask] == data.y[data.train_mask]\n",
    "incorrect_predictions_mask = pred[data.train_mask] != data.y[data.train_mask]\n",
    "accuracy = sum(correct_predictions_mask)/len(correct_predictions_mask)\n",
    "print(\"GCN Training accuracy\",'{:.2%}'.format(accuracy.item()))"
   ]
  },
  {
   "cell_type": "code",
   "execution_count": 28,
   "metadata": {},
   "outputs": [
    {
     "data": {
      "text/plain": [
       "Text(0.5, 1.0, 'Class distribution (Testing)')"
      ]
     },
     "execution_count": 28,
     "metadata": {},
     "output_type": "execute_result"
    },
    {
     "data": {
      "image/png": "[encoded data removed]",
      "text/plain": [
       "<Figure size 800x200 with 1 Axes>"
      ]
     },
     "metadata": {},
     "output_type": "display_data"
    },
    {
     "data": {
      "image/png": "[encoded data removed]",
      "text/plain": [
       "<Figure size 800x200 with 1 Axes>"
      ]
     },
     "metadata": {},
     "output_type": "display_data"
    }
   ],
   "source": [
    "classes, value_counts = np.unique(data.y[data.train_mask].numpy(), return_counts=True)\n",
    "fig, ax = plt.subplots(figsize=(8, 2))\n",
    "ax.bar(classes,value_counts)\n",
    "ax.set_title('Class distribution (Training)')\n",
    "classes, value_counts = np.unique(data.y[data.test_mask].numpy(), return_counts=True)\n",
    "fig, ax = plt.subplots(figsize=(8, 2))\n",
    "ax.bar(classes,value_counts)\n",
    "ax.set_title('Class distribution (Testing)')"
   ]
  },
  {
   "cell_type": "code",
   "execution_count": 6,
   "metadata": {},
   "outputs": [
    {
     "data": {
      "text/html": [
       "<div>\n",
       "<style scoped>\n",
       "    .dataframe tbody tr th:only-of-type {\n",
       "        vertical-align: middle;\n",
       "    }\n",
       "\n",
       "    .dataframe tbody tr th {\n",
       "        vertical-align: top;\n",
       "    }\n",
       "\n",
       "    .dataframe thead th {\n",
       "        text-align: right;\n",
       "    }\n",
       "</style>\n",
       "<table border=\"1\" class=\"dataframe\">\n",
       "  <thead>\n",
       "    <tr style=\"text-align: right;\">\n",
       "      <th></th>\n",
       "      <th>time_stamp</th>\n",
       "      <th>info</th>\n",
       "      <th>Epochs</th>\n",
       "      <th>Learning Rate</th>\n",
       "      <th>hidden_layer_dimension</th>\n",
       "      <th>Model</th>\n",
       "      <th>accuracy</th>\n",
       "      <th>precision</th>\n",
       "      <th>recall</th>\n",
       "      <th>F1</th>\n",
       "      <th>model_directory</th>\n",
       "      <th>triples_path</th>\n",
       "      <th>entities_labels_path</th>\n",
       "      <th>properties_labels_path</th>\n",
       "      <th>graph_embeddings_path</th>\n",
       "    </tr>\n",
       "  </thead>\n",
       "  <tbody>\n",
       "    <tr>\n",
       "      <th>0</th>\n",
       "      <td>2023:08:09 12:55:30</td>\n",
       "      <td>Task: multiclass node type prediction</td>\n",
       "      <td>10</td>\n",
       "      <td>0.01</td>\n",
       "      <td>16</td>\n",
       "      <td>GCN(\\r\\n  (conv1): GCNConv(768, 16)\\r\\n  (conv2): GCNConv(16, 99)\\r\\n)</td>\n",
       "      <td>21.08%</td>\n",
       "      <td>NaN</td>\n",
       "      <td>NaN</td>\n",
       "      <td>NaN</td>\n",
       "      <td>./core/experiments/multi_class_classification/results\\20230809125527</td>\n",
       "      <td>./data/source_data/VAD_triples.csv</td>\n",
       "      <td>./data/source_data/VAD_entities_labels.csv</td>\n",
       "      <td>./data/source_data/VAD_properties_labels.csv</td>\n",
       "      <td>./data/graph_embeddings</td>\n",
       "    </tr>\n",
       "    <tr>\n",
       "      <th>1</th>\n",
       "      <td>2023:08:09 16:08:58</td>\n",
       "      <td>Task: multiclass node type prediction</td>\n",
       "      <td>10</td>\n",
       "      <td>0.01</td>\n",
       "      <td>256</td>\n",
       "      <td>GCN(\\r\\n  (layers): ModuleList(\\r\\n    (0): GCNConv(768, 256)\\r\\n    (1): ReLU()\\r\\n    (2): Dropout(p=0.2, inplace=False)\\r\\n    (3): GCNConv(256, 256)\\r\\n    (4): ReLU()\\r\\n    (5): Dropout(p=0.2, inplace=False)\\r\\n    (6): GCNConv(256, 99)\\r\\n  )\\r\\n)</td>\n",
       "      <td>18.81%</td>\n",
       "      <td>NaN</td>\n",
       "      <td>NaN</td>\n",
       "      <td>NaN</td>\n",
       "      <td>./core/experiments/multi_class_classification/results\\20230809160845</td>\n",
       "      <td>./data/source_data/VAD_triples.csv</td>\n",
       "      <td>./data/source_data/VAD_entities_labels.csv</td>\n",
       "      <td>./data/source_data/VAD_properties_labels.csv</td>\n",
       "      <td>./data/graph_embeddings</td>\n",
       "    </tr>\n",
       "    <tr>\n",
       "      <th>2</th>\n",
       "      <td>2023:08:09 16:33:34</td>\n",
       "      <td>Task: multiclass node type prediction</td>\n",
       "      <td>1000</td>\n",
       "      <td>0.01</td>\n",
       "      <td>256</td>\n",
       "      <td>GCN(\\r\\n  (layers): ModuleList(\\r\\n    (0): GCNConv(768, 256)\\r\\n    (1): ReLU()\\r\\n    (2): Dropout(p=0.2, inplace=False)\\r\\n    (3): GCNConv(256, 256)\\r\\n    (4): ReLU()\\r\\n    (5): Dropout(p=0.2, inplace=False)\\r\\n    (6): GCNConv(256, 99)\\r\\n  )\\r\\n)</td>\n",
       "      <td>88.37%</td>\n",
       "      <td>NaN</td>\n",
       "      <td>NaN</td>\n",
       "      <td>NaN</td>\n",
       "      <td>./core/experiments/multi_class_classification/results\\20230809161415</td>\n",
       "      <td>./data/source_data/VAD_triples.csv</td>\n",
       "      <td>./data/source_data/VAD_entities_labels.csv</td>\n",
       "      <td>./data/source_data/VAD_properties_labels.csv</td>\n",
       "      <td>./data/graph_embeddings</td>\n",
       "    </tr>\n",
       "  </tbody>\n",
       "</table>\n",
       "</div>"
      ],
      "text/plain": [
       "            time_stamp                                   info  Epochs  \\\n",
       "0  2023:08:09 12:55:30  Task: multiclass node type prediction  10       \n",
       "1  2023:08:09 16:08:58  Task: multiclass node type prediction  10       \n",
       "2  2023:08:09 16:33:34  Task: multiclass node type prediction  1000     \n",
       "\n",
       "   Learning Rate  hidden_layer_dimension  \\\n",
       "0  0.01           16                       \n",
       "1  0.01           256                      \n",
       "2  0.01           256                      \n",
       "\n",
       "                                                                                                                                                                                                                                                            Model  \\\n",
       "0  GCN(\\r\\n  (conv1): GCNConv(768, 16)\\r\\n  (conv2): GCNConv(16, 99)\\r\\n)                                                                                                                                                                                           \n",
       "1  GCN(\\r\\n  (layers): ModuleList(\\r\\n    (0): GCNConv(768, 256)\\r\\n    (1): ReLU()\\r\\n    (2): Dropout(p=0.2, inplace=False)\\r\\n    (3): GCNConv(256, 256)\\r\\n    (4): ReLU()\\r\\n    (5): Dropout(p=0.2, inplace=False)\\r\\n    (6): GCNConv(256, 99)\\r\\n  )\\r\\n)   \n",
       "2  GCN(\\r\\n  (layers): ModuleList(\\r\\n    (0): GCNConv(768, 256)\\r\\n    (1): ReLU()\\r\\n    (2): Dropout(p=0.2, inplace=False)\\r\\n    (3): GCNConv(256, 256)\\r\\n    (4): ReLU()\\r\\n    (5): Dropout(p=0.2, inplace=False)\\r\\n    (6): GCNConv(256, 99)\\r\\n  )\\r\\n)   \n",
       "\n",
       "  accuracy  precision  recall  F1  \\\n",
       "0  21.08%  NaN        NaN     NaN   \n",
       "1  18.81%  NaN        NaN     NaN   \n",
       "2  88.37%  NaN        NaN     NaN   \n",
       "\n",
       "                                                        model_directory  \\\n",
       "0  ./core/experiments/multi_class_classification/results\\20230809125527   \n",
       "1  ./core/experiments/multi_class_classification/results\\20230809160845   \n",
       "2  ./core/experiments/multi_class_classification/results\\20230809161415   \n",
       "\n",
       "                         triples_path  \\\n",
       "0  ./data/source_data/VAD_triples.csv   \n",
       "1  ./data/source_data/VAD_triples.csv   \n",
       "2  ./data/source_data/VAD_triples.csv   \n",
       "\n",
       "                         entities_labels_path  \\\n",
       "0  ./data/source_data/VAD_entities_labels.csv   \n",
       "1  ./data/source_data/VAD_entities_labels.csv   \n",
       "2  ./data/source_data/VAD_entities_labels.csv   \n",
       "\n",
       "                         properties_labels_path    graph_embeddings_path  \n",
       "0  ./data/source_data/VAD_properties_labels.csv  ./data/graph_embeddings  \n",
       "1  ./data/source_data/VAD_properties_labels.csv  ./data/graph_embeddings  \n",
       "2  ./data/source_data/VAD_properties_labels.csv  ./data/graph_embeddings  "
      ]
     },
     "execution_count": 6,
     "metadata": {},
     "output_type": "execute_result"
    }
   ],
   "source": [
    "# Read experiments file\n",
    "exp_res = pd.read_csv(os.path.join(EXPERIMENT_RESULTS_PATH[\"eval_results\"],\"experiments.csv\"))\n",
    "exp_res"
   ]
  },
  {
   "cell_type": "code",
   "execution_count": 13,
   "metadata": {},
   "outputs": [
    {
     "data": {
      "text/plain": [
       "Index(['time_stamp', 'info', 'Epochs', 'Learning Rate',\n",
       "       'hidden_layer_dimension', 'Model', 'accuracy', 'precision', 'recall',\n",
       "       'F1', 'model_directory', 'triples_path', 'entities_labels_path',\n",
       "       'properties_labels_path', 'graph_embeddings_path'],\n",
       "      dtype='object')"
      ]
     },
     "execution_count": 13,
     "metadata": {},
     "output_type": "execute_result"
    }
   ],
   "source": [
    "exp_res.columns"
   ]
  },
  {
   "cell_type": "code",
   "execution_count": 55,
   "metadata": {},
   "outputs": [
    {
     "data": {
      "text/plain": [
       "3"
      ]
     },
     "execution_count": 55,
     "metadata": {},
     "output_type": "execute_result"
    }
   ],
   "source": [
    "entities = pd.read_csv('data/source_data/VAD_entities.csv')\n",
    "entities_list = entities['uri'].tolist()\n",
    "embed_path = 'core/experiments/multi_class_classification/results/20230810110230/embeddings.pt'\n",
    "embed_data = torch.load(embed_path)\n",
    "embed_list  = embed_data[1].numpy()\n",
    "len(embed_data)"
   ]
  },
  {
   "cell_type": "code",
   "execution_count": 57,
   "metadata": {},
   "outputs": [],
   "source": [
    "result_dict = {}\n",
    "for entity, embedding in zip(entities_list,embed_list):\n",
    "    result_dict[entity]=embedding"
   ]
  },
  {
   "cell_type": "code",
   "execution_count": 58,
   "metadata": {},
   "outputs": [],
   "source": [
    "entity_encodings_path = os.path.join('C:/Users/I583773/Documents/Thesis', \"VAD_embeddings\")\n",
    "np.savez(entity_encodings_path, **result_dict)"
   ]
  },
  {
   "cell_type": "code",
   "execution_count": 52,
   "metadata": {},
   "outputs": [],
   "source": [
    "loaded_data = np.load('C:/Users/I583773/Documents/Thesis/VAD_embeddings.npz', allow_pickle=True)"
   ]
  },
  {
   "cell_type": "code",
   "execution_count": 53,
   "metadata": {},
   "outputs": [
    {
     "data": {
      "text/plain": [
       "NpzFile 'C:/Users/I583773/Documents/Thesis/trained_embeddings.npz' with keys: http://www.signavio.com/opal/, http://www.signavio.com/opal/APQC/PPM/PF/0%20Root%20-%20Cross%20Industry, http://www.signavio.com/opal/APQC/PPM/PF/1.0%20Develop%20Vision%20and%20Strategy%20-%20Cross%20Industry, http://www.signavio.com/opal/APQC/PPM/PF/1.1%20Define%20the%20business%20concept%20and%20long-term%20vision%20-%20Cross%20Industry, http://www.signavio.com/opal/APQC/PPM/PF/1.1.1%20Assess%20the%20external%20environment%20-%20Cross%20Industry..."
      ]
     },
     "execution_count": 53,
     "metadata": {},
     "output_type": "execute_result"
    }
   ],
   "source": [
    "loaded_data"
   ]
  },
  {
   "cell_type": "code",
   "execution_count": null,
   "metadata": {},
   "outputs": [],
   "source": []
  }
 ],
 "metadata": {
  "kernelspec": {
   "display_name": "psmg-imkg-gnn-qa-b7xnrL-L",
   "language": "python",
   "name": "python3"
  },
  "language_info": {
   "codemirror_mode": {
    "name": "ipython",
    "version": 3
   },
   "file_extension": ".py",
   "mimetype": "text/x-python",
   "name": "python",
   "nbconvert_exporter": "python",
   "pygments_lexer": "ipython3",
   "version": "3.11.1"
  },
  "orig_nbformat": 4
 },
 "nbformat": 4,
 "nbformat_minor": 2
}
