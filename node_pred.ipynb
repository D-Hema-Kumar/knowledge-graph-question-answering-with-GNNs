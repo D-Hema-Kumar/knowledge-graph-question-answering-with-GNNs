{
 "cells": [
  {
   "cell_type": "code",
   "execution_count": 43,
   "metadata": {},
   "outputs": [],
   "source": [
    "from core.NeuralNet.MLP import MLP\n",
    "from core.experiments.utils import (save_experiment_results_to_file, evaluate_model)\n",
    "from core.experiments.ContextClasses import (DataContext, TrainingContext)\n",
    "from core.experiments.binary_classification.binary_classification_experiment import (\n",
    "    BinaryClassificationExperiment,\n",
    ")\n",
    "from config.config import (\n",
    "    TRIPLES_PATH,\n",
    "    ENTITIES_LABELS_PATH,\n",
    "    PROPERTIES_LABELS_PATH,\n",
    "    GRAPH_EMBEDDINGS_PATH,\n",
    ")\n",
    "from core.NeuralNet.GNN import GCN\n",
    "from loguru import logger\n",
    "import sys\n",
    "import torch\n",
    "# For Multi class type classification\n",
    "from core.ToTorch.DataBuilder import NodeTypeDataBuilder\n",
    "from torch_geometric.data import Data\n",
    "import torch.nn.functional as F\n",
    "from torch_geometric.nn import GCNConv,MessagePassing\n",
    "\n",
    "import numpy as np\n",
    "import pandas as pd\n",
    "pd.set_option('display.max_colwidth', 0)\n",
    "import matplotlib.pyplot as plt\n",
    "import os\n",
    "from config.config import EXPERIMENT_RESULTS_PATH\n",
    "import datetime"
   ]
  },
  {
   "cell_type": "markdown",
   "metadata": {},
   "source": [
    "## Multi class classification"
   ]
  },
  {
   "cell_type": "code",
   "execution_count": 2,
   "metadata": {},
   "outputs": [
    {
     "data": {
      "text/plain": [
       "<core.ToTorch.DataBuilder.NodeTypeDataBuilder at 0x22a8a1d2c90>"
      ]
     },
     "execution_count": 2,
     "metadata": {},
     "output_type": "execute_result"
    }
   ],
   "source": [
    "#databuilder\n",
    "data_builder = NodeTypeDataBuilder(\n",
    "    triples_path=TRIPLES_PATH,\n",
    "    entities_labels_path=ENTITIES_LABELS_PATH,\n",
    "    properties_labels_path=PROPERTIES_LABELS_PATH,\n",
    "    embeddings_path=GRAPH_EMBEDDINGS_PATH,\n",
    "    labeler=None,\n",
    ")\n",
    "data_builder"
   ]
  },
  {
   "cell_type": "code",
   "execution_count": 3,
   "metadata": {},
   "outputs": [],
   "source": [
    "x = data_builder.get_x()\n",
    "edge_index = data_builder.get_edge_index()\n",
    "y = data_builder.get_y()\n",
    "train_mask, val_mask, test_mask = data_builder.get_entities_masks()\n",
    "\n",
    "data = Data(\n",
    "    x=x,\n",
    "    edge_index=edge_index,\n",
    "    y=y,\n",
    "    train_mask=train_mask,\n",
    "    val_mask=val_mask,\n",
    "    test_mask=test_mask,\n",
    ")\n"
   ]
  },
  {
   "cell_type": "code",
   "execution_count": 4,
   "metadata": {},
   "outputs": [
    {
     "data": {
      "text/plain": [
       "Data(x=[29025, 768], edge_index=[2, 145402], y=[29025], train_mask=[29025], val_mask=[29025], test_mask=[29025])"
      ]
     },
     "execution_count": 4,
     "metadata": {},
     "output_type": "execute_result"
    }
   ],
   "source": [
    "data"
   ]
  },
  {
   "cell_type": "code",
   "execution_count": 19,
   "metadata": {},
   "outputs": [],
   "source": [
    "class GCN_test(torch.nn.Module):\n",
    "    def __init__(self, num_node_features, dim_hidden_layer,num_layers, num_classes):\n",
    "        super().__init__()\n",
    "        #self.conv1 = GCNConv(num_node_features, dim_hidden_layer)\n",
    "        #self.conv2 = GCNConv(dim_hidden_layer, num_classes)\n",
    "        layers = []\n",
    "        input_dim, output_dim = num_node_features, dim_hidden_layer\n",
    "\n",
    "        for _ in range(num_layers-1):\n",
    "            layers = layers+[GCNConv(in_channels=input_dim,out_channels=output_dim),torch.nn.ReLU(),torch.nn.Dropout(p=0.2)]\n",
    "            \n",
    "            input_dim = dim_hidden_layer\n",
    "        layers = layers+[GCNConv(in_channels=input_dim,out_channels=num_classes)]\n",
    "        self.layers = torch.nn.ModuleList(layers)\n",
    "\n",
    "    def forward(self, data):\n",
    "        x, edge_index = data.x, data.edge_index\n",
    "        embeddings = []\n",
    "        for layer in self.layers:\n",
    "            if isinstance(layer,MessagePassing):\n",
    "                x = layer(x,edge_index)\n",
    "                embeddings.append(x.clone())\n",
    "            else:\n",
    "                x=layer(x)\n",
    "            \n",
    "        return F.log_softmax(x, dim=1), embeddings"
   ]
  },
  {
   "cell_type": "code",
   "execution_count": 35,
   "metadata": {},
   "outputs": [],
   "source": [
    "NUM_EPOCHS = 1000"
   ]
  },
  {
   "cell_type": "code",
   "execution_count": 48,
   "metadata": {},
   "outputs": [
    {
     "name": "stderr",
     "output_type": "stream",
     "text": [
      "\u001b[32m2023-08-09 18:14:34.211\u001b[0m | \u001b[1mINFO    \u001b[0m | \u001b[36m__main__\u001b[0m:\u001b[36m<module>\u001b[0m:\u001b[36m2\u001b[0m - \u001b[1mTraining MLP\u001b[0m\n",
      "\u001b[32m2023-08-09 18:14:34.289\u001b[0m | \u001b[34m\u001b[1mDEBUG   \u001b[0m | \u001b[36m__main__\u001b[0m:\u001b[36m<module>\u001b[0m:\u001b[36m16\u001b[0m - \u001b[34m\u001b[1mEpoch: 000, Loss: 4.6414\u001b[0m\n",
      "\u001b[32m2023-08-09 18:14:45.291\u001b[0m | \u001b[34m\u001b[1mDEBUG   \u001b[0m | \u001b[36m__main__\u001b[0m:\u001b[36m<module>\u001b[0m:\u001b[36m16\u001b[0m - \u001b[34m\u001b[1mEpoch: 100, Loss: 4.6413\u001b[0m\n",
      "\u001b[32m2023-08-09 18:14:55.083\u001b[0m | \u001b[34m\u001b[1mDEBUG   \u001b[0m | \u001b[36m__main__\u001b[0m:\u001b[36m<module>\u001b[0m:\u001b[36m16\u001b[0m - \u001b[34m\u001b[1mEpoch: 200, Loss: 4.6414\u001b[0m\n",
      "\u001b[32m2023-08-09 18:15:04.435\u001b[0m | \u001b[34m\u001b[1mDEBUG   \u001b[0m | \u001b[36m__main__\u001b[0m:\u001b[36m<module>\u001b[0m:\u001b[36m16\u001b[0m - \u001b[34m\u001b[1mEpoch: 300, Loss: 4.6413\u001b[0m\n",
      "\u001b[32m2023-08-09 18:15:11.587\u001b[0m | \u001b[34m\u001b[1mDEBUG   \u001b[0m | \u001b[36m__main__\u001b[0m:\u001b[36m<module>\u001b[0m:\u001b[36m16\u001b[0m - \u001b[34m\u001b[1mEpoch: 400, Loss: 4.6412\u001b[0m\n",
      "\u001b[32m2023-08-09 18:15:18.640\u001b[0m | \u001b[34m\u001b[1mDEBUG   \u001b[0m | \u001b[36m__main__\u001b[0m:\u001b[36m<module>\u001b[0m:\u001b[36m16\u001b[0m - \u001b[34m\u001b[1mEpoch: 500, Loss: 4.6413\u001b[0m\n",
      "\u001b[32m2023-08-09 18:15:25.921\u001b[0m | \u001b[34m\u001b[1mDEBUG   \u001b[0m | \u001b[36m__main__\u001b[0m:\u001b[36m<module>\u001b[0m:\u001b[36m16\u001b[0m - \u001b[34m\u001b[1mEpoch: 600, Loss: 4.6413\u001b[0m\n",
      "\u001b[32m2023-08-09 18:15:32.899\u001b[0m | \u001b[34m\u001b[1mDEBUG   \u001b[0m | \u001b[36m__main__\u001b[0m:\u001b[36m<module>\u001b[0m:\u001b[36m16\u001b[0m - \u001b[34m\u001b[1mEpoch: 700, Loss: 4.6413\u001b[0m\n",
      "\u001b[32m2023-08-09 18:15:39.658\u001b[0m | \u001b[34m\u001b[1mDEBUG   \u001b[0m | \u001b[36m__main__\u001b[0m:\u001b[36m<module>\u001b[0m:\u001b[36m16\u001b[0m - \u001b[34m\u001b[1mEpoch: 800, Loss: 4.6412\u001b[0m\n",
      "\u001b[32m2023-08-09 18:15:47.068\u001b[0m | \u001b[34m\u001b[1mDEBUG   \u001b[0m | \u001b[36m__main__\u001b[0m:\u001b[36m<module>\u001b[0m:\u001b[36m16\u001b[0m - \u001b[34m\u001b[1mEpoch: 900, Loss: 4.6413\u001b[0m\n"
     ]
    }
   ],
   "source": [
    "# TRAIN MLP\n",
    "logger.info(\"Training MLP\")\n",
    "mlp_model = MLP(\n",
    "    num_node_features=data.num_node_features, dim_hidden_layer=16, num_classes=len(set(data.y.tolist()))\n",
    ")\n",
    "optimizer = torch.optim.Adam(model.parameters(), lr=0.01, weight_decay=5e-4)\n",
    "mlp_model.train()\n",
    "\n",
    "for epoch in range(NUM_EPOCHS):\n",
    "    optimizer.zero_grad()\n",
    "    out = mlp_model(data)\n",
    "    loss = F.nll_loss(out[data.train_mask], data.y[data.train_mask])\n",
    "    loss.backward()\n",
    "    optimizer.step()\n",
    "    if epoch%100==0:\n",
    "        logger.debug(f\"Epoch: {epoch:03d}, Loss: {loss:.4f}\")"
   ]
  },
  {
   "cell_type": "code",
   "execution_count": 49,
   "metadata": {},
   "outputs": [
    {
     "name": "stdout",
     "output_type": "stream",
     "text": [
      "MLP accuracy 0.00%\n"
     ]
    }
   ],
   "source": [
    "mlp_model.eval()\n",
    "pred = mlp_model(data).argmax(dim=1)\n",
    "correct_predictions_mask = pred[data.test_mask] == data.y[data.test_mask]\n",
    "incorrect_predictions_mask = pred[data.test_mask] != data.y[data.test_mask]\n",
    "accuracy = sum(correct_predictions_mask)/len(correct_predictions_mask)\n",
    "print(\"MLP accuracy\",'{:.2%}'.format(accuracy.item()))"
   ]
  },
  {
   "cell_type": "code",
   "execution_count": 36,
   "metadata": {},
   "outputs": [
    {
     "name": "stderr",
     "output_type": "stream",
     "text": [
      "\u001b[32m2023-08-09 16:57:12.717\u001b[0m | \u001b[1mINFO    \u001b[0m | \u001b[36m__main__\u001b[0m:\u001b[36m<module>\u001b[0m:\u001b[36m2\u001b[0m - \u001b[1mTraining GNN\u001b[0m\n"
     ]
    },
    {
     "name": "stderr",
     "output_type": "stream",
     "text": [
      "\u001b[32m2023-08-09 16:57:14.414\u001b[0m | \u001b[34m\u001b[1mDEBUG   \u001b[0m | \u001b[36m__main__\u001b[0m:\u001b[36m<module>\u001b[0m:\u001b[36m16\u001b[0m - \u001b[34m\u001b[1mEpoch: 000, Loss: 4.5762\u001b[0m\n",
      "\u001b[32m2023-08-09 16:59:09.438\u001b[0m | \u001b[34m\u001b[1mDEBUG   \u001b[0m | \u001b[36m__main__\u001b[0m:\u001b[36m<module>\u001b[0m:\u001b[36m16\u001b[0m - \u001b[34m\u001b[1mEpoch: 100, Loss: 1.3405\u001b[0m\n",
      "\u001b[32m2023-08-09 17:01:01.561\u001b[0m | \u001b[34m\u001b[1mDEBUG   \u001b[0m | \u001b[36m__main__\u001b[0m:\u001b[36m<module>\u001b[0m:\u001b[36m16\u001b[0m - \u001b[34m\u001b[1mEpoch: 200, Loss: 1.0208\u001b[0m\n",
      "\u001b[32m2023-08-09 17:02:54.483\u001b[0m | \u001b[34m\u001b[1mDEBUG   \u001b[0m | \u001b[36m__main__\u001b[0m:\u001b[36m<module>\u001b[0m:\u001b[36m16\u001b[0m - \u001b[34m\u001b[1mEpoch: 300, Loss: 0.8089\u001b[0m\n",
      "\u001b[32m2023-08-09 17:05:03.371\u001b[0m | \u001b[34m\u001b[1mDEBUG   \u001b[0m | \u001b[36m__main__\u001b[0m:\u001b[36m<module>\u001b[0m:\u001b[36m16\u001b[0m - \u001b[34m\u001b[1mEpoch: 400, Loss: 0.7945\u001b[0m\n",
      "\u001b[32m2023-08-09 17:06:55.135\u001b[0m | \u001b[34m\u001b[1mDEBUG   \u001b[0m | \u001b[36m__main__\u001b[0m:\u001b[36m<module>\u001b[0m:\u001b[36m16\u001b[0m - \u001b[34m\u001b[1mEpoch: 500, Loss: 0.6668\u001b[0m\n",
      "\u001b[32m2023-08-09 17:08:50.845\u001b[0m | \u001b[34m\u001b[1mDEBUG   \u001b[0m | \u001b[36m__main__\u001b[0m:\u001b[36m<module>\u001b[0m:\u001b[36m16\u001b[0m - \u001b[34m\u001b[1mEpoch: 600, Loss: 0.6291\u001b[0m\n",
      "\u001b[32m2023-08-09 17:10:57.817\u001b[0m | \u001b[34m\u001b[1mDEBUG   \u001b[0m | \u001b[36m__main__\u001b[0m:\u001b[36m<module>\u001b[0m:\u001b[36m16\u001b[0m - \u001b[34m\u001b[1mEpoch: 700, Loss: 0.6805\u001b[0m\n",
      "\u001b[32m2023-08-09 17:12:44.379\u001b[0m | \u001b[34m\u001b[1mDEBUG   \u001b[0m | \u001b[36m__main__\u001b[0m:\u001b[36m<module>\u001b[0m:\u001b[36m16\u001b[0m - \u001b[34m\u001b[1mEpoch: 800, Loss: 0.6035\u001b[0m\n",
      "\u001b[32m2023-08-09 17:14:30.061\u001b[0m | \u001b[34m\u001b[1mDEBUG   \u001b[0m | \u001b[36m__main__\u001b[0m:\u001b[36m<module>\u001b[0m:\u001b[36m16\u001b[0m - \u001b[34m\u001b[1mEpoch: 900, Loss: 0.6086\u001b[0m\n"
     ]
    }
   ],
   "source": [
    "# TRAIN GNN\n",
    "logger.info(\"Training GNN\")\n",
    "model = GCN_test(\n",
    "    num_node_features=data.num_node_features, dim_hidden_layer=256,num_layers=3, num_classes=len(set(data.y.tolist()))\n",
    ")\n",
    "optimizer = torch.optim.Adam(model.parameters(), lr=0.01, weight_decay=5e-4)\n",
    "model.train()\n",
    "\n",
    "for epoch in range(NUM_EPOCHS):\n",
    "    optimizer.zero_grad()\n",
    "    out,embedding = model(data)\n",
    "    loss = F.nll_loss(out[data.train_mask], data.y[data.train_mask])\n",
    "    loss.backward()\n",
    "    optimizer.step()\n",
    "    if epoch%100==0:\n",
    "        logger.debug(f\"Epoch: {epoch:03d}, Loss: {loss:.4f}\")"
   ]
  },
  {
   "cell_type": "code",
   "execution_count": 40,
   "metadata": {},
   "outputs": [
    {
     "name": "stdout",
     "output_type": "stream",
     "text": [
      "GCN testing accuracy 86.51%\n"
     ]
    }
   ],
   "source": [
    "model.eval()\n",
    "pred_,_ = model(data)\n",
    "pred = pred_.argmax(dim=1)\n",
    "correct_predictions_mask = pred[data.test_mask] == data.y[data.test_mask]\n",
    "incorrect_predictions_mask = pred[data.test_mask] != data.y[data.test_mask]\n",
    "accuracy = sum(correct_predictions_mask)/len(correct_predictions_mask)\n",
    "print(\"GCN testing accuracy\",'{:.2%}'.format(accuracy.item()))"
   ]
  },
  {
   "cell_type": "code",
   "execution_count": 41,
   "metadata": {},
   "outputs": [
    {
     "name": "stdout",
     "output_type": "stream",
     "text": [
      "GCN Validation accuracy 85.90%\n"
     ]
    }
   ],
   "source": [
    "model.eval()\n",
    "pred_,_ = model(data)\n",
    "pred = pred_.argmax(dim=1)\n",
    "correct_predictions_mask = pred[data.val_mask] == data.y[data.val_mask]\n",
    "incorrect_predictions_mask = pred[data.val_mask] != data.y[data.val_mask]\n",
    "accuracy = sum(correct_predictions_mask)/len(correct_predictions_mask)\n",
    "print(\"GCN Validation accuracy\",'{:.2%}'.format(accuracy.item()))"
   ]
  },
  {
   "cell_type": "code",
   "execution_count": 42,
   "metadata": {},
   "outputs": [
    {
     "name": "stdout",
     "output_type": "stream",
     "text": [
      "GCN Training accuracy 86.54%\n"
     ]
    }
   ],
   "source": [
    "model.eval()\n",
    "pred_,_ = model(data)\n",
    "pred = pred_.argmax(dim=1)\n",
    "correct_predictions_mask = pred[data.train_mask] == data.y[data.train_mask]\n",
    "incorrect_predictions_mask = pred[data.train_mask] != data.y[data.train_mask]\n",
    "accuracy = sum(correct_predictions_mask)/len(correct_predictions_mask)\n",
    "print(\"GCN Training accuracy\",'{:.2%}'.format(accuracy.item()))"
   ]
  },
  {
   "cell_type": "code",
   "execution_count": 44,
   "metadata": {},
   "outputs": [
    {
     "data": {
      "text/plain": [
       "Text(0.5, 1.0, 'Class distribution (Testing)')"
      ]
     },
     "execution_count": 44,
     "metadata": {},
     "output_type": "execute_result"
    },
    {
     "data": {
      "image/png": "[encoded data removed]",
      "text/plain": [
       "<Figure size 800x200 with 1 Axes>"
      ]
     },
     "metadata": {},
     "output_type": "display_data"
    },
    {
     "data": {
      "image/png": "[encoded data removed]",
      "text/plain": [
       "<Figure size 800x200 with 1 Axes>"
      ]
     },
     "metadata": {},
     "output_type": "display_data"
    }
   ],
   "source": [
    "classes, value_counts = np.unique(data.y[data.train_mask].numpy(), return_counts=True)\n",
    "fig, ax = plt.subplots(figsize=(8, 2))\n",
    "ax.bar(classes,value_counts)\n",
    "ax.set_title('Class distribution (Training)')\n",
    "classes, value_counts = np.unique(data.y[data.test_mask].numpy(), return_counts=True)\n",
    "fig, ax = plt.subplots(figsize=(8, 2))\n",
    "ax.bar(classes,value_counts)\n",
    "ax.set_title('Class distribution (Testing)')"
   ]
  },
  {
   "cell_type": "code",
   "execution_count": null,
   "metadata": {},
   "outputs": [],
   "source": []
  }
 ],
 "metadata": {
  "kernelspec": {
   "display_name": "psmg-imkg-gnn-qa-b7xnrL-L",
   "language": "python",
   "name": "python3"
  },
  "language_info": {
   "codemirror_mode": {
    "name": "ipython",
    "version": 3
   },
   "file_extension": ".py",
   "mimetype": "text/x-python",
   "name": "python",
   "nbconvert_exporter": "python",
   "pygments_lexer": "ipython3",
   "version": "3.11.1"
  },
  "orig_nbformat": 4
 },
 "nbformat": 4,
 "nbformat_minor": 2
}
