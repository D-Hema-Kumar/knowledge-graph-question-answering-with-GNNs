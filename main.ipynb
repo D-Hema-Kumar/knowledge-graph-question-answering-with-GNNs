{
 "cells": [
  {
   "cell_type": "code",
   "execution_count": 4,
   "metadata": {},
   "outputs": [],
   "source": [
    "from torch_geometric.data import Data\n",
    "from DataBuilder import DataBuilder\n",
    "from constants import TRIPLES_PATH, ENTITIES_PATH, RELATIONS_PATH\n",
    "from LLMEncoder import LLMEncoder"
   ]
  },
  {
   "cell_type": "code",
   "execution_count": 5,
   "metadata": {},
   "outputs": [
    {
     "data": {
      "text/plain": [
       "tensor([[ 219,  212,  223,  ..., 4345, 2269, 3217],\n",
       "        [1950, 3510, 2846,  ..., 5495, 5495, 5495]])"
      ]
     },
     "execution_count": 5,
     "metadata": {},
     "output_type": "execute_result"
    }
   ],
   "source": [
    "from transformers import RobertaTokenizer, RobertaModel\n",
    "tokenizer = RobertaTokenizer.from_pretrained(\"roberta-base\")\n",
    "model = RobertaModel.from_pretrained(\"roberta-base\")\n",
    "llm_encoder = LLMEncoder(tokenizer, model)\n",
    "\n",
    "data_builder = DataBuilder(TRIPLES_PATH, ENTITIES_PATH, RELATIONS_PATH, llm_encoder=llm_encoder)\n",
    "data_builder.get_edge_index()"
   ]
  },
  {
   "cell_type": "code",
   "execution_count": null,
   "metadata": {},
   "outputs": [],
   "source": [
    "data = Data(x=data_builder.x, edge_index=data_builder.edge_index, ...)"
   ]
  }
 ],
 "metadata": {
  "kernelspec": {
   "display_name": "psmg-imkg-gnn-qa-b42qFiTl",
   "language": "python",
   "name": "python3"
  },
  "language_info": {
   "codemirror_mode": {
    "name": "ipython",
    "version": 3
   },
   "file_extension": ".py",
   "mimetype": "text/x-python",
   "name": "python",
   "nbconvert_exporter": "python",
   "pygments_lexer": "ipython3",
   "version": "3.11.3"
  },
  "orig_nbformat": 4
 },
 "nbformat": 4,
 "nbformat_minor": 2
}
