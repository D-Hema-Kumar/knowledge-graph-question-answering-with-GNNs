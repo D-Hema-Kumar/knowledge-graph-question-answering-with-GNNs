{
 "cells": [
  {
   "cell_type": "code",
   "execution_count": 51,
   "metadata": {},
   "outputs": [],
   "source": [
    "from torch_geometric.data import Data, DataLoader\n",
    "from DataBuilder import DataBuilder\n",
    "from constants import TRIPLES_PATH, ENTITIES_LABELS_PATH, PROPERTIES_LABELS_PATH, EMBEDDINGS_PATH\n",
    "import torch\n",
    "import torch.nn.functional as F\n",
    "from torch_geometric.nn import GCNConv"
   ]
  },
  {
   "cell_type": "code",
   "execution_count": 52,
   "metadata": {},
   "outputs": [],
   "source": [
    "data_builder = DataBuilder(triples_path=TRIPLES_PATH, \n",
    "                           entities_labels_path=ENTITIES_LABELS_PATH, \n",
    "                           properties_labels_path=PROPERTIES_LABELS_PATH, \n",
    "                           embeddings_path=EMBEDDINGS_PATH,\n",
    "                           labeler=(lambda x: 1 if 'APQC' in x else 0))"
   ]
  },
  {
   "cell_type": "code",
   "execution_count": 53,
   "metadata": {},
   "outputs": [],
   "source": [
    "x=data_builder.get_x()\n",
    "edge_index=data_builder.get_edge_index()\n",
    "y=data_builder.get_y()\n",
    "train_mask, val_mask, test_mask = data_builder.get_masks()"
   ]
  },
  {
   "cell_type": "code",
   "execution_count": 54,
   "metadata": {},
   "outputs": [
    {
     "data": {
      "text/plain": [
       "True"
      ]
     },
     "execution_count": 54,
     "metadata": {},
     "output_type": "execute_result"
    }
   ],
   "source": [
    "data = Data(x=x, \n",
    "            edge_index=edge_index, \n",
    "            y=y,\n",
    "            train_mask=train_mask,\n",
    "            val_mask=val_mask,\n",
    "            test_mask=test_mask\n",
    "            )\n",
    "data.validate()"
   ]
  },
  {
   "cell_type": "markdown",
   "metadata": {},
   "source": [
    "## Train GNN"
   ]
  },
  {
   "cell_type": "code",
   "execution_count": 55,
   "metadata": {},
   "outputs": [],
   "source": [
    "class GCN(torch.nn.Module):\n",
    "    def __init__(self):\n",
    "        super().__init__()\n",
    "        self.conv1 = RGCNConv(data.num_node_features, 16)\n",
    "        self.conv2 = RGCNConv(16, 2)\n",
    "\n",
    "    def forward(self, data):\n",
    "        x, edge_index = data.x, data.edge_index\n",
    "        x = self.conv1(x, edge_index)\n",
    "        x = F.relu(x)\n",
    "        x = F.dropout(x, training=self.training)\n",
    "        x = self.conv2(x, edge_index)\n",
    "\n",
    "        return F.log_softmax(x, dim=1)"
   ]
  },
  {
   "cell_type": "code",
   "execution_count": 59,
   "metadata": {},
   "outputs": [],
   "source": [
    "device = torch.device('cuda' if torch.cuda.is_available() else 'cpu')\n",
    "model = GCN().to(device)\n",
    "optimizer = torch.optim.Adam(model.parameters(), lr=0.01, weight_decay=5e-4)\n",
    "\n",
    "model.train()\n",
    "for epoch in range(2000):\n",
    "    optimizer.zero_grad()\n",
    "    out = model(data)\n",
    "    loss = F.nll_loss(out[data.train_mask], data.y[data.train_mask])\n",
    "    loss.backward()\n",
    "    optimizer.step()"
   ]
  },
  {
   "cell_type": "code",
   "execution_count": 60,
   "metadata": {},
   "outputs": [
    {
     "name": "stdout",
     "output_type": "stream",
     "text": [
      "Precision: 0.9579\n",
      "Recall: 0.8632\n",
      "F1: 0.9081\n"
     ]
    }
   ],
   "source": [
    "model.eval()\n",
    "pred = model(data).argmax(dim=1)\n",
    "\n",
    "correct_predictions_mask = (pred[data.test_mask] == data.y[data.test_mask])\n",
    "incorrect_predictions_mask = (pred[data.test_mask] != data.y[data.test_mask])\n",
    "TP = sum(pred[data.test_mask][correct_predictions_mask] == 1)\n",
    "FP = sum(pred[data.test_mask][incorrect_predictions_mask] == 1)\n",
    "FN = sum(pred[data.test_mask][incorrect_predictions_mask] == 0)\n",
    "\n",
    "precision = TP / (TP+FP)\n",
    "recall = TP / (TP + FN)\n",
    "print(f'Precision: {precision:.4f}')\n",
    "print(f'Recall: {recall:.4f}')\n",
    "print(f'F1: {2 * (precision*recall)/(precision+recall):.4f}')"
   ]
  }
 ],
 "metadata": {
  "kernelspec": {
   "display_name": "psmg-imkg-gnn-qa-b42qFiTl",
   "language": "python",
   "name": "python3"
  },
  "language_info": {
   "codemirror_mode": {
    "name": "ipython",
    "version": 3
   },
   "file_extension": ".py",
   "mimetype": "text/x-python",
   "name": "python",
   "nbconvert_exporter": "python",
   "pygments_lexer": "ipython3",
   "version": "3.11.3"
  },
  "orig_nbformat": 4
 },
 "nbformat": 4,
 "nbformat_minor": 2
}
