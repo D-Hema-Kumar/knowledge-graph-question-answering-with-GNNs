{
 "cells": [
  {
   "cell_type": "code",
   "execution_count": 11,
   "metadata": {},
   "outputs": [],
   "source": [
    "from torch_geometric.data import Data\n",
    "from DataBuilder import DataBuilder\n",
    "from constants import (\n",
    "    TRIPLES_PATH,\n",
    "    ENTITIES_LABELS_PATH,\n",
    "    PROPERTIES_LABELS_PATH,\n",
    "    EMBEDDINGS_PATH,\n",
    "    NUM_EPOCHS,\n",
    ")"
   ]
  },
  {
   "cell_type": "code",
   "execution_count": 12,
   "metadata": {},
   "outputs": [],
   "source": [
    "data_builder = DataBuilder(\n",
    "    triples_path=TRIPLES_PATH,\n",
    "    entities_labels_path=ENTITIES_LABELS_PATH,\n",
    "    properties_labels_path=PROPERTIES_LABELS_PATH,\n",
    "    embeddings_path=EMBEDDINGS_PATH,\n",
    "    labeler=(lambda x: 1 if \"APQC\" in x else 0),\n",
    ")"
   ]
  },
  {
   "cell_type": "code",
   "execution_count": 13,
   "metadata": {},
   "outputs": [
    {
     "ename": "AttributeError",
     "evalue": "'DataBuilder' object has no attribute 'get_edge_type'",
     "output_type": "error",
     "traceback": [
      "\u001b[1;31m---------------------------------------------------------------------------\u001b[0m",
      "\u001b[1;31mAttributeError\u001b[0m                            Traceback (most recent call last)",
      "Cell \u001b[1;32mIn[13], line 3\u001b[0m\n\u001b[0;32m      1\u001b[0m x \u001b[39m=\u001b[39m data_builder\u001b[39m.\u001b[39mget_x()\n\u001b[0;32m      2\u001b[0m edge_index \u001b[39m=\u001b[39m data_builder\u001b[39m.\u001b[39mget_edge_index()\n\u001b[1;32m----> 3\u001b[0m edge_type \u001b[39m=\u001b[39m data_builder\u001b[39m.\u001b[39;49mget_edge_type()\n\u001b[0;32m      4\u001b[0m y \u001b[39m=\u001b[39m data_builder\u001b[39m.\u001b[39mget_y()\n\u001b[0;32m      5\u001b[0m train_mask, val_mask, test_mask \u001b[39m=\u001b[39m data_builder\u001b[39m.\u001b[39mget_masks()\n",
      "\u001b[1;31mAttributeError\u001b[0m: 'DataBuilder' object has no attribute 'get_edge_type'"
     ]
    }
   ],
   "source": [
    "x = data_builder.get_x()\n",
    "edge_index = data_builder.get_edge_index()\n",
    "edge_type = data_builder.get_edge_type()\n",
    "y = data_builder.get_y()\n",
    "train_mask, val_mask, test_mask = data_builder.get_masks()"
   ]
  },
  {
   "cell_type": "code",
   "execution_count": 4,
   "metadata": {},
   "outputs": [
    {
     "data": {
      "text/plain": [
       "(tensor([[ 219,  212,  223,  ..., 4345, 2269, 3217],\n",
       "         [1950, 3510, 2846,  ..., 5495, 5495, 5495]]),\n",
       " tensor([  2,   2,   2,  ..., 192, 192, 192]))"
      ]
     },
     "execution_count": 4,
     "metadata": {},
     "output_type": "execute_result"
    }
   ],
   "source": [
    "edge_index, edge_type"
   ]
  },
  {
   "cell_type": "code",
   "execution_count": 7,
   "metadata": {},
   "outputs": [
    {
     "data": {
      "text/plain": [
       "True"
      ]
     },
     "execution_count": 7,
     "metadata": {},
     "output_type": "execute_result"
    }
   ],
   "source": [
    "data = Data(\n",
    "    x=x,\n",
    "    edge_index=edge_index,\n",
    "    edge_type = edge_type,\n",
    "    y=y,\n",
    "    train_mask=train_mask,\n",
    "    val_mask=val_mask,\n",
    "    test_mask=test_mask,\n",
    ")\n",
    "data.validate()"
   ]
  },
  {
   "cell_type": "code",
   "execution_count": 8,
   "metadata": {},
   "outputs": [
    {
     "data": {
      "text/plain": [
       "193"
      ]
     },
     "execution_count": 8,
     "metadata": {},
     "output_type": "execute_result"
    }
   ],
   "source": [
    "data.num_edge_types"
   ]
  },
  {
   "cell_type": "code",
   "execution_count": null,
   "metadata": {},
   "outputs": [],
   "source": []
  }
 ],
 "metadata": {
  "kernelspec": {
   "display_name": "psmg-imkg-gnn-qa-b7xnrL-L",
   "language": "python",
   "name": "python3"
  },
  "language_info": {
   "codemirror_mode": {
    "name": "ipython",
    "version": 3
   },
   "file_extension": ".py",
   "mimetype": "text/x-python",
   "name": "python",
   "nbconvert_exporter": "python",
   "pygments_lexer": "ipython3",
   "version": "3.11.1"
  },
  "orig_nbformat": 4
 },
 "nbformat": 4,
 "nbformat_minor": 2
}
