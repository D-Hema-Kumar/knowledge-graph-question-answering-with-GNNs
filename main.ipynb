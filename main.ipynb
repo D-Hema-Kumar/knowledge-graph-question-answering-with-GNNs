{
 "cells": [
  {
   "cell_type": "code",
   "execution_count": null,
   "metadata": {},
   "outputs": [],
   "source": [
    "from torch_geometric.data import Data\n",
    "from GraphDataBuilder import DataBuilder"
   ]
  },
  {
   "cell_type": "code",
   "execution_count": null,
   "metadata": {},
   "outputs": [],
   "source": [
    "data_builder = DataBuilder('path to turtle', 'NLP_client')\n",
    "\n",
    "data = Data(x=data_builder.get_x(), edge_index=data_builder.get_edge_index(), ...)"
   ]
  }
 ],
 "metadata": {
  "language_info": {
   "name": "python"
  },
  "orig_nbformat": 4
 },
 "nbformat": 4,
 "nbformat_minor": 2
}
