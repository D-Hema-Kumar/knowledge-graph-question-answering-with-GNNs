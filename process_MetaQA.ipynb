{
 "cells": [
  {
   "cell_type": "code",
   "execution_count": 1,
   "metadata": {},
   "outputs": [],
   "source": [
    "import pandas as pd\n",
    "import re\n",
    "import ast\n",
    "import numpy as np\n",
    "import torch\n",
    "from tqdm import tqdm\n",
    "from loguru import logger\n",
    "import os\n",
    "import random\n",
    "import matplotlib.pyplot as plt"
   ]
  },
  {
   "cell_type": "code",
   "execution_count": 28,
   "metadata": {},
   "outputs": [],
   "source": [
    "from torch_geometric.data import Data\n",
    "from core.ToTorch.DataBuilder import QAMaskBuilder\n",
    "import torch.nn.functional as F\n",
    "from config.config import (MetaQA_CONFIG)\n",
    "from core.NeuralNet.GNN import GCN,RGCN"
   ]
  },
  {
   "cell_type": "code",
   "execution_count": 3,
   "metadata": {},
   "outputs": [],
   "source": [
    "KB_PATH = '.\\data\\MetaQA\\source_data\\kb.txt'\n",
    "KB_ENTITIES = '.\\data\\MetaQA\\source_data\\kb_entity_dict.txt'\n",
    "KB_PROPERTIES = '.\\data\\MetaQA\\source_data\\kb_properties.txt'\n",
    "QA_DEV_PATH = \".\\data\\MetaQA\\source_data\\one-hop\\qa_dev.txt\"\n",
    "QA_TEST_PATH = \".\\data\\MetaQA\\source_data\\one-hop\\qa_test.txt\"\n",
    "QA_TRAIN_PATH = '.\\data\\MetaQA\\source_data\\one-hop\\qa_train.txt'"
   ]
  },
  {
   "cell_type": "markdown",
   "metadata": {},
   "source": [
    "## Get predicates"
   ]
  },
  {
   "cell_type": "code",
   "execution_count": 56,
   "metadata": {},
   "outputs": [
    {
     "data": {
      "text/html": [
       "<div>\n",
       "<style scoped>\n",
       "    .dataframe tbody tr th:only-of-type {\n",
       "        vertical-align: middle;\n",
       "    }\n",
       "\n",
       "    .dataframe tbody tr th {\n",
       "        vertical-align: top;\n",
       "    }\n",
       "\n",
       "    .dataframe thead th {\n",
       "        text-align: right;\n",
       "    }\n",
       "</style>\n",
       "<table border=\"1\" class=\"dataframe\">\n",
       "  <thead>\n",
       "    <tr style=\"text-align: right;\">\n",
       "      <th></th>\n",
       "      <th>Kismet</th>\n",
       "      <th>directed_by</th>\n",
       "      <th>William Dieterle</th>\n",
       "    </tr>\n",
       "  </thead>\n",
       "  <tbody>\n",
       "    <tr>\n",
       "      <th>0</th>\n",
       "      <td>Kismet</td>\n",
       "      <td>written_by</td>\n",
       "      <td>Edward Knoblock</td>\n",
       "    </tr>\n",
       "    <tr>\n",
       "      <th>1</th>\n",
       "      <td>Kismet</td>\n",
       "      <td>starred_actors</td>\n",
       "      <td>Marlene Dietrich</td>\n",
       "    </tr>\n",
       "    <tr>\n",
       "      <th>2</th>\n",
       "      <td>Kismet</td>\n",
       "      <td>starred_actors</td>\n",
       "      <td>Edward Arnold</td>\n",
       "    </tr>\n",
       "    <tr>\n",
       "      <th>3</th>\n",
       "      <td>Kismet</td>\n",
       "      <td>starred_actors</td>\n",
       "      <td>Ronald Colman</td>\n",
       "    </tr>\n",
       "    <tr>\n",
       "      <th>4</th>\n",
       "      <td>Kismet</td>\n",
       "      <td>starred_actors</td>\n",
       "      <td>James Craig</td>\n",
       "    </tr>\n",
       "  </tbody>\n",
       "</table>\n",
       "</div>"
      ],
      "text/plain": [
       "   Kismet     directed_by  William Dieterle\n",
       "0  Kismet      written_by   Edward Knoblock\n",
       "1  Kismet  starred_actors  Marlene Dietrich\n",
       "2  Kismet  starred_actors     Edward Arnold\n",
       "3  Kismet  starred_actors     Ronald Colman\n",
       "4  Kismet  starred_actors       James Craig"
      ]
     },
     "execution_count": 56,
     "metadata": {},
     "output_type": "execute_result"
    }
   ],
   "source": [
    "kb  = pd.read_csv(KB_PATH, delimiter='|', names = ['subject', 'predicate','object'])\n",
    "kb.head()"
   ]
  },
  {
   "cell_type": "code",
   "execution_count": 9,
   "metadata": {},
   "outputs": [
    {
     "data": {
      "text/plain": [
       "array(['directed_by', 'written_by', 'starred_actors', 'release_year',\n",
       "       'in_language', 'has_tags', 'has_genre', 'has_imdb_votes',\n",
       "       'has_imdb_rating'], dtype=object)"
      ]
     },
     "execution_count": 9,
     "metadata": {},
     "output_type": "execute_result"
    }
   ],
   "source": [
    "kb.predicate.unique()"
   ]
  },
  {
   "cell_type": "code",
   "execution_count": 14,
   "metadata": {},
   "outputs": [
    {
     "data": {
      "text/html": [
       "<div>\n",
       "<style scoped>\n",
       "    .dataframe tbody tr th:only-of-type {\n",
       "        vertical-align: middle;\n",
       "    }\n",
       "\n",
       "    .dataframe tbody tr th {\n",
       "        vertical-align: top;\n",
       "    }\n",
       "\n",
       "    .dataframe thead th {\n",
       "        text-align: right;\n",
       "    }\n",
       "</style>\n",
       "<table border=\"1\" class=\"dataframe\">\n",
       "  <thead>\n",
       "    <tr style=\"text-align: right;\">\n",
       "      <th></th>\n",
       "      <th>predicate</th>\n",
       "      <th>label</th>\n",
       "    </tr>\n",
       "  </thead>\n",
       "  <tbody>\n",
       "    <tr>\n",
       "      <th>0</th>\n",
       "      <td>directed_by</td>\n",
       "      <td>directed by</td>\n",
       "    </tr>\n",
       "    <tr>\n",
       "      <th>1</th>\n",
       "      <td>written_by</td>\n",
       "      <td>written by</td>\n",
       "    </tr>\n",
       "    <tr>\n",
       "      <th>2</th>\n",
       "      <td>starred_actors</td>\n",
       "      <td>starred actors</td>\n",
       "    </tr>\n",
       "    <tr>\n",
       "      <th>3</th>\n",
       "      <td>release_year</td>\n",
       "      <td>release year</td>\n",
       "    </tr>\n",
       "    <tr>\n",
       "      <th>4</th>\n",
       "      <td>in_language</td>\n",
       "      <td>in language</td>\n",
       "    </tr>\n",
       "    <tr>\n",
       "      <th>5</th>\n",
       "      <td>has_tags</td>\n",
       "      <td>has tags</td>\n",
       "    </tr>\n",
       "    <tr>\n",
       "      <th>6</th>\n",
       "      <td>has_genre</td>\n",
       "      <td>has genre</td>\n",
       "    </tr>\n",
       "    <tr>\n",
       "      <th>7</th>\n",
       "      <td>has_imdb_votes</td>\n",
       "      <td>has imdb votes</td>\n",
       "    </tr>\n",
       "    <tr>\n",
       "      <th>8</th>\n",
       "      <td>has_imdb_rating</td>\n",
       "      <td>has imdb rating</td>\n",
       "    </tr>\n",
       "  </tbody>\n",
       "</table>\n",
       "</div>"
      ],
      "text/plain": [
       "         predicate            label\n",
       "0      directed_by      directed by\n",
       "1       written_by       written by\n",
       "2   starred_actors   starred actors\n",
       "3     release_year     release year\n",
       "4      in_language      in language\n",
       "5         has_tags         has tags\n",
       "6        has_genre        has genre\n",
       "7   has_imdb_votes   has imdb votes\n",
       "8  has_imdb_rating  has imdb rating"
      ]
     },
     "execution_count": 14,
     "metadata": {},
     "output_type": "execute_result"
    }
   ],
   "source": [
    "kb_properties = pd.DataFrame(kb.predicate.unique(), columns=['predicate'])\n",
    "kb_properties['label'] = kb_properties['predicate'].str.replace('_', ' ')\n",
    "kb_properties"
   ]
  },
  {
   "cell_type": "code",
   "execution_count": 16,
   "metadata": {},
   "outputs": [],
   "source": [
    "#kb_properties.to_csv(KB_PROPERTIES, index=False)"
   ]
  },
  {
   "cell_type": "markdown",
   "metadata": {},
   "source": [
    "## Process QA files [1-hop, 2-hop, 3-hop] to get\n",
    "[Question, concept, answers]"
   ]
  },
  {
   "cell_type": "code",
   "execution_count": 35,
   "metadata": {},
   "outputs": [],
   "source": [
    "def extract_concepts(string:str):\n",
    "    return re.findall(r'\\[(.*?)\\]',string)"
   ]
  },
  {
   "cell_type": "markdown",
   "metadata": {},
   "source": [
    "### ONE-Hop"
   ]
  },
  {
   "cell_type": "code",
   "execution_count": 40,
   "metadata": {},
   "outputs": [],
   "source": [
    "qa_dev = pd.read_csv(QA_DEV_PATH, delimiter='\\t', names = ['question','answers'])\n",
    "qa_dev['concepts'] = qa_dev['question'].apply(extract_concepts)\n",
    "qa_dev['answers'] = qa_dev['answers'].str.split('|')\n",
    "qa_dev['question'] = qa_dev['question'].str.replace('[','')\n",
    "qa_dev['question'] = qa_dev['question'].str.replace(']','')\n",
    "#qa_dev[['question', 'concepts', 'answers']].to_csv('.\\data\\MetaQA\\source_data\\one-hop\\qca_dev.csv', index=False)\n",
    "\n",
    "# qca for testing set\n",
    "qa_test = pd.read_csv(QA_TEST_PATH, delimiter='\\t', names = ['question','answers'])\n",
    "qa_test['concepts'] = qa_test['question'].apply(extract_concepts)\n",
    "qa_test['answers'] = qa_test['answers'].str.split('|')\n",
    "qa_test['question'] = qa_test['question'].str.replace('[','')\n",
    "qa_test['question'] = qa_test['question'].str.replace(']','')\n",
    "qa_test[['question', 'concepts', 'answers']].to_csv('.\\data\\MetaQA\\source_data\\one-hop\\qca_test.csv', index=False)\n",
    "\n",
    "# qca for training set\n",
    "qa_train = pd.read_csv(QA_TRAIN_PATH, delimiter='\\t', names = ['question','answers'])\n",
    "qa_train['concepts'] = qa_train['question'].apply(extract_concepts)\n",
    "qa_train['answers'] = qa_train['answers'].str.split('|')\n",
    "qa_train['question'] = qa_train['question'].str.replace('[','')\n",
    "qa_train['question'] = qa_train['question'].str.replace(']','')\n",
    "qa_train[['question', 'concepts', 'answers']].to_csv('.\\data\\MetaQA\\source_data\\one-hop\\qca_train.csv', index=False)"
   ]
  },
  {
   "cell_type": "markdown",
   "metadata": {},
   "source": [
    "### TWO Hops"
   ]
  },
  {
   "cell_type": "code",
   "execution_count": 41,
   "metadata": {},
   "outputs": [],
   "source": [
    "QA_DEV_2_HOP_PATH = r\".\\data\\MetaQA\\source_data\\two-hop\\qa_dev.txt\"\n",
    "QA_TEST_2_HOP_PATH = r\".\\data\\MetaQA\\source_data\\two-hop\\qa_test.txt\"\n",
    "QA_TRAIN_2_HOP_PATH = r\".\\data\\MetaQA\\source_data\\two-hop\\qa_train.txt\"\n",
    "QA_2_HOP_BASE_PATH = r\".\\data\\MetaQA\\source_data\\two-hop\""
   ]
  },
  {
   "cell_type": "code",
   "execution_count": 45,
   "metadata": {},
   "outputs": [],
   "source": [
    "#DEV\n",
    "qa_dev = pd.read_csv(QA_DEV_2_HOP_PATH, delimiter='\\t', names = ['question','answers'])\n",
    "qa_dev['concepts'] = qa_dev['question'].apply(extract_concepts)\n",
    "qa_dev['answers'] = qa_dev['answers'].str.split('|')\n",
    "qa_dev['question'] = qa_dev['question'].str.replace('[','')\n",
    "qa_dev['question'] = qa_dev['question'].str.replace(']','')\n",
    "qa_dev[['question', 'concepts', 'answers']].to_csv(os.path.join(QA_2_HOP_BASE_PATH,'qca_dev.csv'), index=False)\n",
    "# qca for testing set\n",
    "qa_test = pd.read_csv(QA_TEST_2_HOP_PATH, delimiter='\\t', names = ['question','answers'])\n",
    "qa_test['concepts'] = qa_test['question'].apply(extract_concepts)\n",
    "qa_test['answers'] = qa_test['answers'].str.split('|')\n",
    "qa_test['question'] = qa_test['question'].str.replace('[','')\n",
    "qa_test['question'] = qa_test['question'].str.replace(']','')\n",
    "qa_test[['question', 'concepts', 'answers']].to_csv(os.path.join(QA_2_HOP_BASE_PATH,'qca_test.csv'), index=False)\n",
    "\n",
    "# qca for training set\n",
    "qa_train = pd.read_csv(QA_TRAIN_2_HOP_PATH, delimiter='\\t', names = ['question','answers'])\n",
    "qa_train['concepts'] = qa_train['question'].apply(extract_concepts)\n",
    "qa_train['answers'] = qa_train['answers'].str.split('|')\n",
    "qa_train['question'] = qa_train['question'].str.replace('[','')\n",
    "qa_train['question'] = qa_train['question'].str.replace(']','')\n",
    "qa_train[['question', 'concepts', 'answers']].to_csv(os.path.join(QA_2_HOP_BASE_PATH,'qca_train.csv'), index=False)"
   ]
  },
  {
   "cell_type": "markdown",
   "metadata": {},
   "source": [
    "## Process KB entities"
   ]
  },
  {
   "cell_type": "code",
   "execution_count": 23,
   "metadata": {},
   "outputs": [
    {
     "data": {
      "text/html": [
       "<div>\n",
       "<style scoped>\n",
       "    .dataframe tbody tr th:only-of-type {\n",
       "        vertical-align: middle;\n",
       "    }\n",
       "\n",
       "    .dataframe tbody tr th {\n",
       "        vertical-align: top;\n",
       "    }\n",
       "\n",
       "    .dataframe thead th {\n",
       "        text-align: right;\n",
       "    }\n",
       "</style>\n",
       "<table border=\"1\" class=\"dataframe\">\n",
       "  <thead>\n",
       "    <tr style=\"text-align: right;\">\n",
       "      <th></th>\n",
       "      <th>idx</th>\n",
       "      <th>label</th>\n",
       "    </tr>\n",
       "  </thead>\n",
       "  <tbody>\n",
       "    <tr>\n",
       "      <th>0</th>\n",
       "      <td>0</td>\n",
       "      <td>Kismet</td>\n",
       "    </tr>\n",
       "  </tbody>\n",
       "</table>\n",
       "</div>"
      ],
      "text/plain": [
       "   idx   label\n",
       "0    0  Kismet"
      ]
     },
     "execution_count": 23,
     "metadata": {},
     "output_type": "execute_result"
    }
   ],
   "source": [
    "kb_entities  = pd.read_csv(KB_ENTITIES, delimiter='\\t',names = ['idx','label'])\n",
    "kb_entities.head(1)"
   ]
  },
  {
   "cell_type": "code",
   "execution_count": 27,
   "metadata": {},
   "outputs": [],
   "source": [
    "kb_entities.iloc[:,1].to_csv('.\\data\\MetaQA\\source_data\\kb_entities.csv', sep='\\t', index=False )"
   ]
  },
  {
   "cell_type": "markdown",
   "metadata": {},
   "source": [
    "## Modelling"
   ]
  },
  {
   "cell_type": "code",
   "execution_count": 27,
   "metadata": {},
   "outputs": [],
   "source": [
    "training_subgraphs = np.load('data\\MetaQA\\source_data\\one-hop\\dev_subgraphs.npz',allow_pickle=True)\n",
    "testing_subgraphs = np.load('data\\MetaQA\\source_data\\one-hop\\dev_subgraphs.npz',allow_pickle=True)"
   ]
  },
  {
   "cell_type": "code",
   "execution_count": 4,
   "metadata": {},
   "outputs": [],
   "source": [
    "qa_data_builder = QAMaskBuilder(\n",
    "    triples_path=MetaQA_CONFIG['KB_PATH'],\n",
    "    entities_labels_path=MetaQA_CONFIG['ENTITIES_LABELS_PATH'],\n",
    "    properties_labels_path=MetaQA_CONFIG['PROPERTIES_LABELS_PATH'],\n",
    "    embeddings_path=MetaQA_CONFIG['GRAPH_EMBEDDINGS_PATH'],\n",
    "    training_questions_concepts_answers_file_path = MetaQA_CONFIG['QUESTIONS_CONCEPTS_ANSWERS_1_HOP_DEV_PATH'],\n",
    "    testing_questions_concepts_answers_file_path = MetaQA_CONFIG['QUESTIONS_CONCEPTS_ANSWERS_1_HOP_DEV_PATH'],\n",
    "    training_questions_embeddings_path = MetaQA_CONFIG['QUESTIONS_EMBEDDINGS_1_HOP_DEV_PATH'],\n",
    "    testing_questions_embeddings_path = MetaQA_CONFIG['QUESTIONS_EMBEDDINGS_1_HOP_DEV_PATH'],\n",
    "    is_vad_kb=False \n",
    ")"
   ]
  },
  {
   "cell_type": "code",
   "execution_count": 5,
   "metadata": {},
   "outputs": [
    {
     "data": {
      "text/plain": [
       "Data(x=[43234, 768], edge_index=[2, 269482], edge_type=[269482])"
      ]
     },
     "execution_count": 5,
     "metadata": {},
     "output_type": "execute_result"
    }
   ],
   "source": [
    "data = qa_data_builder.build_data()\n",
    "data"
   ]
  },
  {
   "cell_type": "code",
   "execution_count": 18,
   "metadata": {},
   "outputs": [],
   "source": [
    "training_questions_subgraphs_path = 'data\\MetaQA\\source_data\\one-hop\\dev_subgraphs.npz'"
   ]
  },
  {
   "cell_type": "code",
   "execution_count": 24,
   "metadata": {},
   "outputs": [],
   "source": [
    "#load training_question embeddings\n",
    "training_questions_to_subgraphs = {}\n",
    "loaded_data = np.load(training_questions_subgraphs_path, allow_pickle=True)\n",
    "for key in loaded_data.keys():\n",
    "    training_questions_to_subgraphs[key] = loaded_data[key]"
   ]
  },
  {
   "cell_type": "code",
   "execution_count": 31,
   "metadata": {},
   "outputs": [
    {
     "data": {
      "text/plain": [
       "array({'question_subgraph_nodes': tensor([   58,    85,   106,   178,   511,  3529,  6222,  6824,  7022,  9826,\n",
       "        17982, 17984, 24652, 24653, 24654, 32512, 32513, 32514, 32515, 36468,\n",
       "        39804]), 'question_subgraph_concept_mask': tensor([False, False, False, False, False, False, False, False, False, False,\n",
       "        False, False, False, False,  True, False, False, False, False, False,\n",
       "        False]), 'question_subgraph_answer_mask': tensor([False, False, False, False, False, False, False, False, False, False,\n",
       "        False, False,  True, False, False,  True, False, False, False, False,\n",
       "         True]), 'question_y': tensor([0, 0, 0, 0, 0, 0, 0, 0, 0, 0, 0, 0, 1, 0, 0, 1, 0, 0, 0, 0, 1]), 'reindexed_question_subgraph_edge_index': tensor([[12, 12, 12, 12, 15, 15, 15, 15, 15, 15, 15, 15, 15, 15, 20, 20, 20, 20,\n",
       "         20, 20, 20, 20, 14, 14, 14],\n",
       "        [13,  7, 14,  1, 10, 16, 14, 17,  3,  4, 18,  8,  5, 11, 19, 19,  0,  9,\n",
       "          6, 14,  2,  5, 12, 15, 20]]), 'question_edge_type': tensor([ 0,  2,  2,  6,  0,  1,  2,  2,  3,  5,  5,  5,  5,  5,  0,  1,  2,  2,\n",
       "         2,  2,  3,  5, 11, 11, 11])}, dtype=object)"
      ]
     },
     "execution_count": 31,
     "metadata": {},
     "output_type": "execute_result"
    }
   ],
   "source": [
    "training_questions_to_subgraphs[key]"
   ]
  },
  {
   "cell_type": "code",
   "execution_count": 32,
   "metadata": {},
   "outputs": [
    {
     "data": {
      "text/html": [
       "<div>\n",
       "<style scoped>\n",
       "    .dataframe tbody tr th:only-of-type {\n",
       "        vertical-align: middle;\n",
       "    }\n",
       "\n",
       "    .dataframe tbody tr th {\n",
       "        vertical-align: top;\n",
       "    }\n",
       "\n",
       "    .dataframe thead th {\n",
       "        text-align: right;\n",
       "    }\n",
       "</style>\n",
       "<table border=\"1\" class=\"dataframe\">\n",
       "  <thead>\n",
       "    <tr style=\"text-align: right;\">\n",
       "      <th></th>\n",
       "      <th>question</th>\n",
       "      <th>subgraph_node_count</th>\n",
       "      <th>subgraph_edge_count</th>\n",
       "    </tr>\n",
       "  </thead>\n",
       "  <tbody>\n",
       "    <tr>\n",
       "      <th>0</th>\n",
       "      <td>what movies did Temuera Morrison act in</td>\n",
       "      <td>21</td>\n",
       "      <td>25</td>\n",
       "    </tr>\n",
       "    <tr>\n",
       "      <th>1</th>\n",
       "      <td>what movies did Evelyn Venable act in</td>\n",
       "      <td>28</td>\n",
       "      <td>31</td>\n",
       "    </tr>\n",
       "  </tbody>\n",
       "</table>\n",
       "</div>"
      ],
      "text/plain": [
       "                                  question  subgraph_node_count  \\\n",
       "0  what movies did Temuera Morrison act in                   21   \n",
       "1    what movies did Evelyn Venable act in                   28   \n",
       "\n",
       "   subgraph_edge_count  \n",
       "0                   25  \n",
       "1                   31  "
      ]
     },
     "execution_count": 32,
     "metadata": {},
     "output_type": "execute_result"
    }
   ],
   "source": [
    "question = []\n",
    "subgraph_node_count = []\n",
    "subgraph_edge_count = []\n",
    "for key in training_questions_to_subgraphs.keys():\n",
    "    #training_questions_to_subgraphs[key].item()\n",
    "    question.append(key)\n",
    "    subgraph_node_count.append(training_questions_to_subgraphs[key].item()['question_subgraph_nodes'].size()[0])\n",
    "    subgraph_edge_count.append(training_questions_to_subgraphs[key].item()['question_edge_type'].size()[0])\n",
    "\n",
    "subgraph_stats_df = pd.DataFrame({'question':question,'subgraph_node_count':subgraph_node_count,'subgraph_edge_count':subgraph_edge_count})\n",
    "subgraph_stats_df.head(2) "
   ]
  },
  {
   "cell_type": "code",
   "execution_count": 38,
   "metadata": {},
   "outputs": [
    {
     "data": {
      "text/plain": [
       "9989"
      ]
     },
     "execution_count": 38,
     "metadata": {},
     "output_type": "execute_result"
    }
   ],
   "source": [
    "len(subgraph_stats_df)"
   ]
  },
  {
   "cell_type": "code",
   "execution_count": 37,
   "metadata": {},
   "outputs": [
    {
     "data": {
      "text/plain": [
       "9648"
      ]
     },
     "execution_count": 37,
     "metadata": {},
     "output_type": "execute_result"
    }
   ],
   "source": [
    "subgraph_stats_df.subgraph_node_count.max()"
   ]
  },
  {
   "cell_type": "code",
   "execution_count": 39,
   "metadata": {},
   "outputs": [
    {
     "data": {
      "text/plain": [
       "12747"
      ]
     },
     "execution_count": 39,
     "metadata": {},
     "output_type": "execute_result"
    }
   ],
   "source": [
    "subgraph_stats_df.subgraph_edge_count.max()"
   ]
  },
  {
   "cell_type": "code",
   "execution_count": 41,
   "metadata": {},
   "outputs": [
    {
     "data": {
      "image/png": "[encoded data removed]",
      "text/plain": [
       "<Figure size 640x480 with 1 Axes>"
      ]
     },
     "metadata": {},
     "output_type": "display_data"
    }
   ],
   "source": [
    "plt.hist(subgraph_node_count, bins=20, edgecolor='black')\n",
    "plt.show()"
   ]
  },
  {
   "cell_type": "code",
   "execution_count": 42,
   "metadata": {},
   "outputs": [
    {
     "data": {
      "text/html": [
       "<div>\n",
       "<style scoped>\n",
       "    .dataframe tbody tr th:only-of-type {\n",
       "        vertical-align: middle;\n",
       "    }\n",
       "\n",
       "    .dataframe tbody tr th {\n",
       "        vertical-align: top;\n",
       "    }\n",
       "\n",
       "    .dataframe thead th {\n",
       "        text-align: right;\n",
       "    }\n",
       "</style>\n",
       "<table border=\"1\" class=\"dataframe\">\n",
       "  <thead>\n",
       "    <tr style=\"text-align: right;\">\n",
       "      <th></th>\n",
       "      <th>question</th>\n",
       "      <th>subgraph_node_count</th>\n",
       "      <th>subgraph_edge_count</th>\n",
       "    </tr>\n",
       "  </thead>\n",
       "  <tbody>\n",
       "    <tr>\n",
       "      <th>1450</th>\n",
       "      <td>the film West Is West starred which actors</td>\n",
       "      <td>7633</td>\n",
       "      <td>8828</td>\n",
       "    </tr>\n",
       "    <tr>\n",
       "      <th>1469</th>\n",
       "      <td>the movie It Runs in the Family starred who</td>\n",
       "      <td>7801</td>\n",
       "      <td>9257</td>\n",
       "    </tr>\n",
       "    <tr>\n",
       "      <th>1476</th>\n",
       "      <td>who acted in Such Good Friends</td>\n",
       "      <td>7631</td>\n",
       "      <td>8820</td>\n",
       "    </tr>\n",
       "    <tr>\n",
       "      <th>1485</th>\n",
       "      <td>who acted in the movie The Angriest Man in Bro...</td>\n",
       "      <td>7526</td>\n",
       "      <td>8713</td>\n",
       "    </tr>\n",
       "    <tr>\n",
       "      <th>1488</th>\n",
       "      <td>who stars in Bright Eyes</td>\n",
       "      <td>8105</td>\n",
       "      <td>9802</td>\n",
       "    </tr>\n",
       "    <tr>\n",
       "      <th>...</th>\n",
       "      <td>...</td>\n",
       "      <td>...</td>\n",
       "      <td>...</td>\n",
       "    </tr>\n",
       "    <tr>\n",
       "      <th>8609</th>\n",
       "      <td>what year was About a Boy released</td>\n",
       "      <td>7619</td>\n",
       "      <td>9555</td>\n",
       "    </tr>\n",
       "    <tr>\n",
       "      <th>8622</th>\n",
       "      <td>what year was the movie The Three Musketeers r...</td>\n",
       "      <td>8817</td>\n",
       "      <td>11269</td>\n",
       "    </tr>\n",
       "    <tr>\n",
       "      <th>8624</th>\n",
       "      <td>the movie Madea's Big Happy Family, when was i...</td>\n",
       "      <td>7600</td>\n",
       "      <td>8871</td>\n",
       "    </tr>\n",
       "    <tr>\n",
       "      <th>8711</th>\n",
       "      <td>what year was SLC Punk! released</td>\n",
       "      <td>7548</td>\n",
       "      <td>8667</td>\n",
       "    </tr>\n",
       "    <tr>\n",
       "      <th>8722</th>\n",
       "      <td>what was the release date of the movie ...All ...</td>\n",
       "      <td>7497</td>\n",
       "      <td>8526</td>\n",
       "    </tr>\n",
       "  </tbody>\n",
       "</table>\n",
       "<p>382 rows × 3 columns</p>\n",
       "</div>"
      ],
      "text/plain": [
       "                                               question  subgraph_node_count  \\\n",
       "1450         the film West Is West starred which actors                 7633   \n",
       "1469        the movie It Runs in the Family starred who                 7801   \n",
       "1476                     who acted in Such Good Friends                 7631   \n",
       "1485  who acted in the movie The Angriest Man in Bro...                 7526   \n",
       "1488                           who stars in Bright Eyes                 8105   \n",
       "...                                                 ...                  ...   \n",
       "8609                 what year was About a Boy released                 7619   \n",
       "8622  what year was the movie The Three Musketeers r...                 8817   \n",
       "8624  the movie Madea's Big Happy Family, when was i...                 7600   \n",
       "8711                   what year was SLC Punk! released                 7548   \n",
       "8722  what was the release date of the movie ...All ...                 7497   \n",
       "\n",
       "      subgraph_edge_count  \n",
       "1450                 8828  \n",
       "1469                 9257  \n",
       "1476                 8820  \n",
       "1485                 8713  \n",
       "1488                 9802  \n",
       "...                   ...  \n",
       "8609                 9555  \n",
       "8622                11269  \n",
       "8624                 8871  \n",
       "8711                 8667  \n",
       "8722                 8526  \n",
       "\n",
       "[382 rows x 3 columns]"
      ]
     },
     "execution_count": 42,
     "metadata": {},
     "output_type": "execute_result"
    }
   ],
   "source": [
    "subgraph_stats_df[subgraph_stats_df.subgraph_node_count>7000]"
   ]
  },
  {
   "cell_type": "code",
   "execution_count": 48,
   "metadata": {},
   "outputs": [
    {
     "data": {
      "text/plain": [
       "'2023-09-14 11:05:26'"
      ]
     },
     "execution_count": 48,
     "metadata": {},
     "output_type": "execute_result"
    }
   ],
   "source": [
    "import datetime\n",
    "datetime.datetime.now().strftime(\"%Y-%m-%d %H:%M:%S\")\n"
   ]
  },
  {
   "cell_type": "code",
   "execution_count": 27,
   "metadata": {},
   "outputs": [],
   "source": [
    "def get_question_training_x_mask(question_subgraph_data,n=18):\n",
    "    \n",
    "    question_training_mask = torch.zeros_like(question_subgraph_data['question_subgraph_nodes'], dtype=torch.bool)\n",
    "\n",
    "    question_subgraph_concept_mask = question_subgraph_data['question_subgraph_concept_mask']\n",
    "    question_subgraph_answer_mask  = question_subgraph_data['question_subgraph_answer_mask']\n",
    "\n",
    "    # Exclude question_mask and answer_mask items\n",
    "    valid_indices = torch.where(~question_subgraph_concept_mask & ~question_subgraph_answer_mask)[0]\n",
    "\n",
    "    if n < len(valid_indices):\n",
    "        random_indices  = random.sample(valid_indices.tolist(), n)\n",
    "        question_training_mask[random_indices] = True\n",
    "        question_training_mask = question_training_mask | question_subgraph_answer_mask\n",
    "    else:\n",
    "        question_training_mask[~question_subgraph_concept_mask] = True\n",
    "    \n",
    "    return question_training_mask"
   ]
  },
  {
   "cell_type": "code",
   "execution_count": 37,
   "metadata": {},
   "outputs": [],
   "source": [
    "def get_question_data(question:str, training=False):#\n",
    "\n",
    "    if training:\n",
    "        question_subgraph_data = training_subgraphs[question].item()\n",
    "            \n",
    "        # q_x\n",
    "        q_x = torch.cat(\n",
    "            (\n",
    "                data.x[question_subgraph_data['question_subgraph_nodes']],\n",
    "                torch.from_numpy(qa_data_builder.training_questions_to_embeddings[question].reshape(1, -1).repeat(data.x[question_subgraph_data['question_subgraph_nodes']].shape[0], axis=0)),\n",
    "            ),\n",
    "            dim=1,\n",
    "        )  # broadcast the question emb to match the x dim\n",
    "\n",
    "        # q_edge_index\n",
    "        q_edge_index =  question_subgraph_data['reindexed_question_subgraph_edge_index']\n",
    "\n",
    "        # q_edge_type\n",
    "        q_edge_type = question_subgraph_data['question_edge_type']\n",
    "\n",
    "        # q_training_mask\n",
    "        q_training_mask = get_question_training_x_mask(question_subgraph_data,n=18)\n",
    "\n",
    "        # q_y\n",
    "        q_y = question_subgraph_data['question_y']\n",
    "\n",
    "        return Data(x=q_x, edge_index=q_edge_index, edge_type=q_edge_type, train_mask=q_training_mask, y=q_y)\n",
    "    \n",
    "    else:#testing phase\n",
    "\n",
    "        #load question specific subgraph\n",
    "        question_subgraph_data = testing_subgraphs[question].item() \n",
    "        \n",
    "        #q_x\n",
    "        q_x = torch.cat(\n",
    "            (\n",
    "                data.x[question_subgraph_data['question_subgraph_nodes']],\n",
    "                torch.from_numpy(qa_data_builder.testing_questions_to_embeddings[question].reshape(1, -1).repeat(qa_data_builder.x[question_subgraph_data['question_subgraph_nodes']].shape[0], axis=0)),\n",
    "            ),\n",
    "            dim=1,\n",
    "        )\n",
    "\n",
    "        # q_edge_index\n",
    "        q_edge_index =  question_subgraph_data['reindexed_question_subgraph_edge_index']\n",
    "\n",
    "        # q_edge_type\n",
    "        q_edge_type = question_subgraph_data['question_edge_type'] \n",
    "\n",
    "        return Data(x=q_x, edge_index=q_edge_index, edge_type=q_edge_type), question_subgraph_data['question_subgraph_nodes'], question_subgraph_data['question_subgraph_nodes'][question_subgraph_data['question_subgraph_answer_mask']]"
   ]
  },
  {
   "cell_type": "code",
   "execution_count": null,
   "metadata": {},
   "outputs": [],
   "source": [
    "if torch.cuda.is_available():\n",
    "    device = torch.device('cuda')\n",
    "elif hasattr(torch.backends, 'mps') and torch.backends.mps.is_available():\n",
    "    device = torch.device('mps')\n",
    "else:\n",
    "    device = torch.device('cpu')\n",
    "print(\"device type: \", device)\n",
    "model = GCN(\n",
    "    num_node_features=data.num_node_features*2, dim_hidden_layer=16,num_layers=1, num_classes=2\n",
    ")\n",
    "optimizer = torch.optim.Adam(model.parameters(), lr=0.1, weight_decay=5e-4)"
   ]
  },
  {
   "cell_type": "code",
   "execution_count": 53,
   "metadata": {},
   "outputs": [
    {
     "name": "stderr",
     "output_type": "stream",
     "text": [
      "  0%|          | 0/9992 [00:00<?, ?it/s]"
     ]
    },
    {
     "name": "stderr",
     "output_type": "stream",
     "text": [
      "100%|██████████| 9992/9992 [07:16<00:00, 22.91it/s]\n",
      "\u001b[32m2023-09-11 16:36:49.160\u001b[0m | \u001b[34m\u001b[1mDEBUG   \u001b[0m | \u001b[36m__main__\u001b[0m:\u001b[36m<module>\u001b[0m:\u001b[36m17\u001b[0m - \u001b[34m\u001b[1mEpoch: 000, Loss: 0.3782\u001b[0m\n"
     ]
    }
   ],
   "source": [
    "# TRAINING\n",
    "model.train()\n",
    "num_train_samples = qa_data_builder.training_questions_concepts_answers.shape[0]\n",
    "for epoch in range(1):\n",
    "    shuffled_train_indices = np.random.permutation(qa_data_builder.training_questions_concepts_answers.index.tolist())\n",
    "    total_epoch_loss = 0.0\n",
    "    for idx in tqdm(shuffled_train_indices):\n",
    "        row = qa_data_builder.training_questions_concepts_answers.loc[idx]\n",
    "        q_data = get_question_data(question=row[\"question\"], training=True)\n",
    "        q_data = q_data.to(device)\n",
    "        optimizer.zero_grad()\n",
    "        out,embedding = model(q_data)\n",
    "        loss = F.nll_loss(out[q_data.train_mask], q_data.y[q_data.train_mask],weight = torch.tensor([1.0,20.0]).to(device))\n",
    "        loss.backward()\n",
    "        optimizer.step()\n",
    "        total_epoch_loss +=loss.item()\n",
    "    logger.debug(f\"Epoch: {epoch:03d}, Loss: {(total_epoch_loss/num_train_samples):.4f}\")\n"
   ]
  },
  {
   "cell_type": "code",
   "execution_count": 38,
   "metadata": {},
   "outputs": [
    {
     "name": "stderr",
     "output_type": "stream",
     "text": [
      "9992it [03:54, 42.67it/s] \n",
      "\u001b[32m2023-09-11 12:53:08.225\u001b[0m | \u001b[1mINFO    \u001b[0m | \u001b[36m__main__\u001b[0m:\u001b[36m<module>\u001b[0m:\u001b[36m34\u001b[0m - \u001b[1mEvaluation results saved.\u001b[0m\n"
     ]
    }
   ],
   "source": [
    "# EVALUATION\n",
    "model.eval()\n",
    "with torch.no_grad():\n",
    "    res = []\n",
    "    for idx, row in tqdm(qa_data_builder.testing_questions_concepts_answers.iterrows()):\n",
    "\n",
    "        q_data, question_subgraph_nodes,question_subgraph_answer = get_question_data(question=row[\"question\"], training=False)\n",
    "        q_data = q_data.to(device)\n",
    "        question_subgraph_nodes = question_subgraph_nodes.to(device)\n",
    "        question_subgraph_answer = question_subgraph_answer.to(device).tolist()\n",
    "        #predict\n",
    "        out,_ = model(q_data)\n",
    "\n",
    "        predicted_local_answer_nodes = torch.where(out.argmax(dim=1))[0] # local subgraph answer\n",
    "        predicted_answer_nodes = question_subgraph_nodes[predicted_local_answer_nodes] # remapping local answer to global node number\n",
    "        predicted_answer_node_probabilities = out.max(dim=1)[0][predicted_local_answer_nodes]\n",
    "        sorted_probability_indices = torch.argsort(predicted_answer_node_probabilities, descending= True)\n",
    "        count_predicted_nodes =len(predicted_answer_nodes)\n",
    "\n",
    "        if count_predicted_nodes > 0 and count_predicted_nodes < 50:\n",
    "            #logger.debug(f\"answers predicted\")\n",
    "            is_predicted_in_actual_answers = bool(set(question_subgraph_answer) & set(predicted_answer_nodes[sorted_probability_indices].tolist()))\n",
    "            res.append((row[\"question\"], question_subgraph_answer, predicted_answer_nodes[sorted_probability_indices].tolist(),predicted_answer_node_probabilities[sorted_probability_indices].tolist(),count_predicted_nodes,is_predicted_in_actual_answers))\n",
    "        \n",
    "        elif count_predicted_nodes >= 50:\n",
    "            res.append((row[\"question\"], question_subgraph_answer, np.nan,np.nan,count_predicted_nodes,False))\n",
    "        else:\n",
    "            #logger.debug(f\"NO answers found\")\n",
    "            res.append((row[\"question\"], question_subgraph_answer, np.nan,np.nan,0,False))\n",
    "        \n",
    "        #break;\n",
    "eval_res = pd.DataFrame.from_records(res,columns=[\"question\",\"actual_answer_nodes\",\"predicted_answer_nodes\",\"probabilities_of_answer_nodes\",\"count_predicted_nodes\",\"is_predicted_in_actual\"])\n",
    "#eval_res.to_csv(os.path.join(self.experiment_results_folder_path,\"evaluation_results.csv\"),index=False)\n",
    "logger.info(\"Evaluation results saved.\")\n"
   ]
  },
  {
   "cell_type": "code",
   "execution_count": null,
   "metadata": {},
   "outputs": [],
   "source": []
  },
  {
   "cell_type": "code",
   "execution_count": null,
   "metadata": {},
   "outputs": [],
   "source": []
  },
  {
   "cell_type": "code",
   "execution_count": null,
   "metadata": {},
   "outputs": [],
   "source": []
  },
  {
   "cell_type": "code",
   "execution_count": null,
   "metadata": {},
   "outputs": [],
   "source": []
  },
  {
   "cell_type": "markdown",
   "metadata": {},
   "source": [
    "## Evaluation"
   ]
  },
  {
   "cell_type": "code",
   "execution_count": 2,
   "metadata": {},
   "outputs": [],
   "source": [
    "def hits_at_1(predictions, ground_truths):\n",
    "    hits = 0\n",
    "    no_hits_question_idx = []\n",
    "    i=0\n",
    "    for pred, truths in zip(predictions, ground_truths):\n",
    "        if any(p == t for p in pred for t in truths):\n",
    "            hits += 1\n",
    "        else:\n",
    "            no_hits_question_idx.append(i)\n",
    "        i+=1\n",
    "    return hits / len(predictions), no_hits_question_idx\n",
    "\n",
    "def f1_score(predictions, ground_truths):\n",
    "    f1_scores = []\n",
    "    for pred, truths in zip(predictions, ground_truths):\n",
    "        if len(pred)==0:\n",
    "            precision = 0.0\n",
    "            recall = 0.0\n",
    "        else:\n",
    "            precision = len(set(pred) & set(truths)) / len(pred)\n",
    "            recall = len(set(pred) & set(truths)) / len(truths)\n",
    "        if precision + recall > 0:\n",
    "            f1 = 2 * (precision * recall) / (precision + recall)\n",
    "        else:\n",
    "            f1 = 0\n",
    "        f1_scores.append(f1)\n",
    "\n",
    "    return sum(f1_scores) / len(predictions)\n",
    "\n",
    "def hits_at_k(predictions, ground_truths, k):\n",
    "    hits = 0\n",
    "    for pred, truths in zip(predictions, ground_truths):\n",
    "        if any(p in truths for p in pred[:k]):\n",
    "            hits += 1\n",
    "    return hits / len(predictions)\n",
    "\n",
    "def f1_score_at_k(predictions, ground_truths):\n",
    "    f1_scores = []\n",
    "    for pred, truths in zip(predictions, ground_truths):\n",
    "        if len(pred)==0:\n",
    "            precision = 0.0\n",
    "            recall = 0.0\n",
    "        else:\n",
    "            precision = len(set(pred) & set(truths)) / len(pred)\n",
    "            recall = len(set(pred) & set(truths)) / len(truths)\n",
    "        if precision + recall > 0:\n",
    "            f1 = 2 * (precision * recall) / (precision + recall)\n",
    "        else:\n",
    "            f1 = 0\n",
    "        f1_scores.append(f1)\n",
    "\n"
   ]
  },
  {
   "cell_type": "code",
   "execution_count": 3,
   "metadata": {},
   "outputs": [
    {
     "data": {
      "text/html": [
       "<div>\n",
       "<style scoped>\n",
       "    .dataframe tbody tr th:only-of-type {\n",
       "        vertical-align: middle;\n",
       "    }\n",
       "\n",
       "    .dataframe tbody tr th {\n",
       "        vertical-align: top;\n",
       "    }\n",
       "\n",
       "    .dataframe thead th {\n",
       "        text-align: right;\n",
       "    }\n",
       "</style>\n",
       "<table border=\"1\" class=\"dataframe\">\n",
       "  <thead>\n",
       "    <tr style=\"text-align: right;\">\n",
       "      <th></th>\n",
       "      <th>question</th>\n",
       "      <th>actual_answer_nodes</th>\n",
       "      <th>predicted_answer_nodes</th>\n",
       "      <th>probabilities_of_answer_nodes</th>\n",
       "      <th>count_predicted_nodes</th>\n",
       "      <th>is_predicted_in_actual</th>\n",
       "    </tr>\n",
       "  </thead>\n",
       "  <tbody>\n",
       "    <tr>\n",
       "      <th>9990</th>\n",
       "      <td>what movies was Mark Bowden the writer of</td>\n",
       "      <td>[19017, 29737]</td>\n",
       "      <td>[29737, 19017]</td>\n",
       "      <td>[-0.008132321760058403, -0.008132321760058403]</td>\n",
       "      <td>2</td>\n",
       "      <td>True</td>\n",
       "    </tr>\n",
       "    <tr>\n",
       "      <th>9991</th>\n",
       "      <td>what movies was Ryan Rowe the writer of</td>\n",
       "      <td>[17615]</td>\n",
       "      <td>[17615]</td>\n",
       "      <td>[-0.008129247464239597]</td>\n",
       "      <td>1</td>\n",
       "      <td>True</td>\n",
       "    </tr>\n",
       "  </tbody>\n",
       "</table>\n",
       "</div>"
      ],
      "text/plain": [
       "                                       question actual_answer_nodes  \\\n",
       "9990  what movies was Mark Bowden the writer of      [19017, 29737]   \n",
       "9991    what movies was Ryan Rowe the writer of             [17615]   \n",
       "\n",
       "     predicted_answer_nodes                   probabilities_of_answer_nodes  \\\n",
       "9990         [29737, 19017]  [-0.008132321760058403, -0.008132321760058403]   \n",
       "9991                [17615]                         [-0.008129247464239597]   \n",
       "\n",
       "      count_predicted_nodes  is_predicted_in_actual  \n",
       "9990                      2                    True  \n",
       "9991                      1                    True  "
      ]
     },
     "execution_count": 3,
     "metadata": {},
     "output_type": "execute_result"
    }
   ],
   "source": [
    "evaluation_results = pd.read_csv('./core/experiments/qa/results/20230912184556/evaluation_results.csv')\n",
    "# reads columns as lists instead of strings\n",
    "list_columns = ['actual_answer_nodes','predicted_answer_nodes', 'probabilities_of_answer_nodes']\n",
    "for col in list_columns:\n",
    "    evaluation_results[col] = evaluation_results[col].apply(lambda x : ast.literal_eval(x) if type(x)==str else [])\n",
    "evaluation_results.tail(2)\n",
    "\n",
    "evaluation_results_ = pd.read_csv('./core/experiments/qa/results/20230911231834/evaluation_results.csv')\n",
    "# reads columns as lists instead of strings\n",
    "list_columns = ['actual_answer_nodes','predicted_answer_nodes', 'probabilities_of_answer_nodes']\n",
    "for col in list_columns:\n",
    "    evaluation_results_[col] = evaluation_results_[col].apply(lambda x : ast.literal_eval(x) if type(x)==str else [])\n",
    "evaluation_results_.tail(2)"
   ]
  },
  {
   "cell_type": "code",
   "execution_count": 4,
   "metadata": {},
   "outputs": [
    {
     "name": "stdout",
     "output_type": "stream",
     "text": [
      "3003\n",
      "2779\n"
     ]
    }
   ],
   "source": [
    "# Number of questions with predicted answers count more than 50\n",
    "print(len(evaluation_results[evaluation_results['count_predicted_nodes']>50]))\n",
    "print(len(evaluation_results_[evaluation_results_['count_predicted_nodes']>50]))"
   ]
  },
  {
   "cell_type": "code",
   "execution_count": 5,
   "metadata": {},
   "outputs": [
    {
     "data": {
      "text/plain": [
       "0"
      ]
     },
     "execution_count": 5,
     "metadata": {},
     "output_type": "execute_result"
    }
   ],
   "source": [
    "# How many questions it could not predict\n",
    "len(evaluation_results[evaluation_results['count_predicted_nodes']==0])"
   ]
  },
  {
   "cell_type": "code",
   "execution_count": 28,
   "metadata": {},
   "outputs": [
    {
     "data": {
      "text/plain": [
       "32"
      ]
     },
     "execution_count": 28,
     "metadata": {},
     "output_type": "execute_result"
    }
   ],
   "source": [
    "len(evaluation_results_[evaluation_results_['is_predicted_in_actual']==False])"
   ]
  },
  {
   "cell_type": "code",
   "execution_count": 14,
   "metadata": {},
   "outputs": [
    {
     "data": {
      "text/plain": [
       "count_predicted_nodes    int64\n",
       "counts                   int64\n",
       "dtype: object"
      ]
     },
     "execution_count": 14,
     "metadata": {},
     "output_type": "execute_result"
    }
   ],
   "source": [
    "df = evaluation_results[evaluation_results['count_predicted_nodes']>50]['count_predicted_nodes'].value_counts().reset_index(name='counts').sort_values(by='count_predicted_nodes', ascending=True)\n",
    "df.dtypes"
   ]
  },
  {
   "cell_type": "code",
   "execution_count": 15,
   "metadata": {},
   "outputs": [
    {
     "data": {
      "image/png": "[encoded data removed]",
      "text/plain": [
       "<Figure size 800x400 with 1 Axes>"
      ]
     },
     "metadata": {},
     "output_type": "display_data"
    }
   ],
   "source": [
    "plt.figure(figsize=(8, 4))\n",
    "plt.bar(df.count_predicted_nodes, df.counts)\n",
    "plt.xlabel('Item Type')\n",
    "plt.ylabel('Count')\n",
    "plt.title('Item Type Counts')\n",
    "plt.show()"
   ]
  },
  {
   "cell_type": "code",
   "execution_count": 16,
   "metadata": {},
   "outputs": [
    {
     "data": {
      "image/png": "[encoded data removed]",
      "text/plain": [
       "<Figure size 640x480 with 1 Axes>"
      ]
     },
     "metadata": {},
     "output_type": "display_data"
    }
   ],
   "source": [
    "plt.hist(df.count_predicted_nodes, bins=30, edgecolor='black')\n",
    "plt.show()"
   ]
  },
  {
   "cell_type": "code",
   "execution_count": 46,
   "metadata": {},
   "outputs": [],
   "source": [
    "pred_nodes = [22329,22326, 39299, 37371]\n",
    "truths = [39299, 22326, 37371]\n",
    "if any(node in pred_nodes[:1] for node in truths):\n",
    "#if any(p == t for p in pred_nodes for t in truths):\n",
    "    print(1)"
   ]
  },
  {
   "cell_type": "code",
   "execution_count": 13,
   "metadata": {},
   "outputs": [
    {
     "name": "stdout",
     "output_type": "stream",
     "text": [
      "hits@10: 0.186\n"
     ]
    }
   ],
   "source": [
    "hits_10 =hits_at_k(evaluation_results['predicted_answer_nodes'], evaluation_results['actual_answer_nodes'],1)\n",
    "print('hits@10:', np.round(hits_10,3))"
   ]
  },
  {
   "cell_type": "code",
   "execution_count": 55,
   "metadata": {},
   "outputs": [
    {
     "data": {
      "text/plain": [
       "764"
      ]
     },
     "execution_count": 55,
     "metadata": {},
     "output_type": "execute_result"
    }
   ],
   "source": [
    "wrong_q_idx[2]"
   ]
  },
  {
   "cell_type": "code",
   "execution_count": 56,
   "metadata": {},
   "outputs": [
    {
     "data": {
      "text/plain": [
       "q_idx                                                                          764\n",
       "actual_answer_nodes              [598, 15933, 36591, 40615, 40339, 38432, 15061...\n",
       "predicted_answer_nodes                                                          []\n",
       "probabilities_of_answer_nodes                                                   []\n",
       "count_predicted_nodes                                                           85\n",
       "is_predicted_in_actual                                                       False\n",
       "Name: 764, dtype: object"
      ]
     },
     "execution_count": 56,
     "metadata": {},
     "output_type": "execute_result"
    }
   ],
   "source": [
    "evaluation_results.iloc[764]"
   ]
  },
  {
   "cell_type": "code",
   "execution_count": 47,
   "metadata": {},
   "outputs": [
    {
     "data": {
      "text/plain": [
       "2900"
      ]
     },
     "execution_count": 47,
     "metadata": {},
     "output_type": "execute_result"
    }
   ],
   "source": [
    "len(wrong_q_idx)"
   ]
  },
  {
   "cell_type": "code",
   "execution_count": 33,
   "metadata": {},
   "outputs": [
    {
     "data": {
      "text/plain": [
       "0.35015427991300463"
      ]
     },
     "execution_count": 33,
     "metadata": {},
     "output_type": "execute_result"
    }
   ],
   "source": [
    "f1_score(evaluation_results['predicted_answer_nodes'], evaluation_results['actual_answer_nodes'])"
   ]
  },
  {
   "cell_type": "code",
   "execution_count": 36,
   "metadata": {},
   "outputs": [
    {
     "data": {
      "text/plain": [
       "0.3968030561978486"
      ]
     },
     "execution_count": 36,
     "metadata": {},
     "output_type": "execute_result"
    }
   ],
   "source": [
    "hits_at_k(evaluation_results['predicted_answer_nodes'], evaluation_results['actual_answer_nodes'], 1)"
   ]
  },
  {
   "cell_type": "code",
   "execution_count": 4,
   "metadata": {},
   "outputs": [
    {
     "data": {
      "text/html": [
       "<div>\n",
       "<style scoped>\n",
       "    .dataframe tbody tr th:only-of-type {\n",
       "        vertical-align: middle;\n",
       "    }\n",
       "\n",
       "    .dataframe tbody tr th {\n",
       "        vertical-align: top;\n",
       "    }\n",
       "\n",
       "    .dataframe thead th {\n",
       "        text-align: right;\n",
       "    }\n",
       "</style>\n",
       "<table border=\"1\" class=\"dataframe\">\n",
       "  <thead>\n",
       "    <tr style=\"text-align: right;\">\n",
       "      <th></th>\n",
       "      <th>time_stamp</th>\n",
       "      <th>Epochs</th>\n",
       "      <th>Learning Rate</th>\n",
       "      <th>hidden_dimension</th>\n",
       "      <th>num_layers</th>\n",
       "      <th>Model</th>\n",
       "      <th>hits@1</th>\n",
       "      <th>F1</th>\n",
       "      <th>hits@3</th>\n",
       "      <th>hits@5</th>\n",
       "      <th>mrr</th>\n",
       "    </tr>\n",
       "  </thead>\n",
       "  <tbody>\n",
       "    <tr>\n",
       "      <th>0</th>\n",
       "      <td>2023:09:11 17:15:29</td>\n",
       "      <td>1</td>\n",
       "      <td>0.001</td>\n",
       "      <td>16</td>\n",
       "      <td>2</td>\n",
       "      <td>GCN(\\n  (layers): ModuleList(\\n    (0): GCNCon...</td>\n",
       "      <td>0.326761</td>\n",
       "      <td>0.289240</td>\n",
       "      <td>0.633307</td>\n",
       "      <td>0.795536</td>\n",
       "      <td>0.433461</td>\n",
       "    </tr>\n",
       "    <tr>\n",
       "      <th>1</th>\n",
       "      <td>2023:09:11 17:20:13</td>\n",
       "      <td>1</td>\n",
       "      <td>0.001</td>\n",
       "      <td>16</td>\n",
       "      <td>2</td>\n",
       "      <td>GCN(\\n  (layers): ModuleList(\\n    (0): GCNCon...</td>\n",
       "      <td>0.346677</td>\n",
       "      <td>0.394850</td>\n",
       "      <td>0.625200</td>\n",
       "      <td>0.782526</td>\n",
       "      <td>0.433752</td>\n",
       "    </tr>\n",
       "    <tr>\n",
       "      <th>2</th>\n",
       "      <td>2023:09:11 17:20:46</td>\n",
       "      <td>1</td>\n",
       "      <td>0.001</td>\n",
       "      <td>16</td>\n",
       "      <td>2</td>\n",
       "      <td>GCN(\\n  (layers): ModuleList(\\n    (0): GCNCon...</td>\n",
       "      <td>0.343275</td>\n",
       "      <td>0.380921</td>\n",
       "      <td>0.620296</td>\n",
       "      <td>0.781425</td>\n",
       "      <td>0.431000</td>\n",
       "    </tr>\n",
       "    <tr>\n",
       "      <th>3</th>\n",
       "      <td>2023:09:11 17:39:59</td>\n",
       "      <td>1</td>\n",
       "      <td>0.001</td>\n",
       "      <td>16</td>\n",
       "      <td>2</td>\n",
       "      <td>GCN(\\n  (layers): ModuleList(\\n    (0): GCNCon...</td>\n",
       "      <td>0.354077</td>\n",
       "      <td>0.404633</td>\n",
       "      <td>0.618981</td>\n",
       "      <td>0.780135</td>\n",
       "      <td>0.434528</td>\n",
       "    </tr>\n",
       "    <tr>\n",
       "      <th>4</th>\n",
       "      <td>2023:09:11 20:50:08</td>\n",
       "      <td>5</td>\n",
       "      <td>0.001</td>\n",
       "      <td>16</td>\n",
       "      <td>2</td>\n",
       "      <td>RGCN(\\n  (layers): ModuleList(\\n    (0): RGCNC...</td>\n",
       "      <td>0.408968</td>\n",
       "      <td>0.348015</td>\n",
       "      <td>0.561074</td>\n",
       "      <td>0.641098</td>\n",
       "      <td>0.441581</td>\n",
       "    </tr>\n",
       "    <tr>\n",
       "      <th>5</th>\n",
       "      <td>2023:09:12 03:21:21</td>\n",
       "      <td>10</td>\n",
       "      <td>0.001</td>\n",
       "      <td>16</td>\n",
       "      <td>2</td>\n",
       "      <td>RGAT(\\n  (layers): ModuleList(\\n    (0): RGATC...</td>\n",
       "      <td>0.394491</td>\n",
       "      <td>0.345914</td>\n",
       "      <td>0.566402</td>\n",
       "      <td>0.649844</td>\n",
       "      <td>0.422419</td>\n",
       "    </tr>\n",
       "    <tr>\n",
       "      <th>6</th>\n",
       "      <td>2023:09:12 05:24:27</td>\n",
       "      <td>10</td>\n",
       "      <td>0.001</td>\n",
       "      <td>16</td>\n",
       "      <td>2</td>\n",
       "      <td>RGCN(\\n  (layers): ModuleList(\\n    (0): RGCNC...</td>\n",
       "      <td>0.420730</td>\n",
       "      <td>0.356768</td>\n",
       "      <td>0.598975</td>\n",
       "      <td>0.680004</td>\n",
       "      <td>0.465545</td>\n",
       "    </tr>\n",
       "  </tbody>\n",
       "</table>\n",
       "</div>"
      ],
      "text/plain": [
       "            time_stamp  Epochs  Learning Rate  hidden_dimension  num_layers  \\\n",
       "0  2023:09:11 17:15:29       1          0.001                16           2   \n",
       "1  2023:09:11 17:20:13       1          0.001                16           2   \n",
       "2  2023:09:11 17:20:46       1          0.001                16           2   \n",
       "3  2023:09:11 17:39:59       1          0.001                16           2   \n",
       "4  2023:09:11 20:50:08       5          0.001                16           2   \n",
       "5  2023:09:12 03:21:21      10          0.001                16           2   \n",
       "6  2023:09:12 05:24:27      10          0.001                16           2   \n",
       "\n",
       "                                               Model    hits@1        F1  \\\n",
       "0  GCN(\\n  (layers): ModuleList(\\n    (0): GCNCon...  0.326761  0.289240   \n",
       "1  GCN(\\n  (layers): ModuleList(\\n    (0): GCNCon...  0.346677  0.394850   \n",
       "2  GCN(\\n  (layers): ModuleList(\\n    (0): GCNCon...  0.343275  0.380921   \n",
       "3  GCN(\\n  (layers): ModuleList(\\n    (0): GCNCon...  0.354077  0.404633   \n",
       "4  RGCN(\\n  (layers): ModuleList(\\n    (0): RGCNC...  0.408968  0.348015   \n",
       "5  RGAT(\\n  (layers): ModuleList(\\n    (0): RGATC...  0.394491  0.345914   \n",
       "6  RGCN(\\n  (layers): ModuleList(\\n    (0): RGCNC...  0.420730  0.356768   \n",
       "\n",
       "     hits@3    hits@5       mrr  \n",
       "0  0.633307  0.795536  0.433461  \n",
       "1  0.625200  0.782526  0.433752  \n",
       "2  0.620296  0.781425  0.431000  \n",
       "3  0.618981  0.780135  0.434528  \n",
       "4  0.561074  0.641098  0.441581  \n",
       "5  0.566402  0.649844  0.422419  \n",
       "6  0.598975  0.680004  0.465545  "
      ]
     },
     "execution_count": 4,
     "metadata": {},
     "output_type": "execute_result"
    }
   ],
   "source": [
    "metaQA_results = pd.read_csv('./core/experiments/qa/MetaQA_experiments_masterdata.csv')\n",
    "metaQA_results[['time_stamp', 'Epochs', 'Learning Rate', 'hidden_dimension',\n",
    "       'num_layers', 'Model', 'hits@1', 'F1', 'hits@3', 'hits@5',\n",
    "       'mrr']]"
   ]
  },
  {
   "cell_type": "code",
   "execution_count": 5,
   "metadata": {},
   "outputs": [
    {
     "data": {
      "text/html": [
       "<div>\n",
       "<style scoped>\n",
       "    .dataframe tbody tr th:only-of-type {\n",
       "        vertical-align: middle;\n",
       "    }\n",
       "\n",
       "    .dataframe tbody tr th {\n",
       "        vertical-align: top;\n",
       "    }\n",
       "\n",
       "    .dataframe thead th {\n",
       "        text-align: right;\n",
       "    }\n",
       "</style>\n",
       "<table border=\"1\" class=\"dataframe\">\n",
       "  <thead>\n",
       "    <tr style=\"text-align: right;\">\n",
       "      <th></th>\n",
       "      <th>time_stamp</th>\n",
       "      <th>info</th>\n",
       "      <th>Epochs</th>\n",
       "      <th>Learning Rate</th>\n",
       "      <th>hidden_dimension</th>\n",
       "      <th>num_layers</th>\n",
       "      <th>num_bases</th>\n",
       "      <th>Model</th>\n",
       "      <th>hits@1</th>\n",
       "      <th>F1</th>\n",
       "      <th>...</th>\n",
       "      <th>recall@1</th>\n",
       "      <th>recall@3</th>\n",
       "      <th>recall@5</th>\n",
       "      <th>model_directory</th>\n",
       "      <th>triples_path</th>\n",
       "      <th>entities_labels_path</th>\n",
       "      <th>properties_labels_path</th>\n",
       "      <th>graph_embeddings_path</th>\n",
       "      <th>training_questions_concepts_answers_file_path</th>\n",
       "      <th>testing_questions_concepts_answers_file_path</th>\n",
       "    </tr>\n",
       "  </thead>\n",
       "  <tbody>\n",
       "    <tr>\n",
       "      <th>0</th>\n",
       "      <td>2023:09:11 17:15:29</td>\n",
       "      <td>Task: MetaQA with GNN</td>\n",
       "      <td>1</td>\n",
       "      <td>0.001</td>\n",
       "      <td>16</td>\n",
       "      <td>2</td>\n",
       "      <td>NaN</td>\n",
       "      <td>GCN(\\n  (layers): ModuleList(\\n    (0): GCNCon...</td>\n",
       "      <td>0.326761</td>\n",
       "      <td>0.289240</td>\n",
       "      <td>...</td>\n",
       "      <td>0.172032</td>\n",
       "      <td>0.452447</td>\n",
       "      <td>0.631119</td>\n",
       "      <td>./core/experiments/qa/results/20230911171132</td>\n",
       "      <td>./data/MetaQA/source_data/kb.txt</td>\n",
       "      <td>./data/MetaQA/source_data/kb_entities.csv</td>\n",
       "      <td>./data/MetaQA/source_data/kb_properties.txt</td>\n",
       "      <td>./data/MetaQA/graph_embeddings</td>\n",
       "      <td>data/MetaQA/source_data/one-hop/qca_dev.csv</td>\n",
       "      <td>data/MetaQA/source_data/one-hop/qca_dev.csv</td>\n",
       "    </tr>\n",
       "    <tr>\n",
       "      <th>1</th>\n",
       "      <td>2023:09:11 17:20:13</td>\n",
       "      <td>Task: MetaQA with GNN</td>\n",
       "      <td>1</td>\n",
       "      <td>0.001</td>\n",
       "      <td>16</td>\n",
       "      <td>2</td>\n",
       "      <td>NaN</td>\n",
       "      <td>GCN(\\n  (layers): ModuleList(\\n    (0): GCNCon...</td>\n",
       "      <td>0.346677</td>\n",
       "      <td>0.394850</td>\n",
       "      <td>...</td>\n",
       "      <td>0.182518</td>\n",
       "      <td>0.471416</td>\n",
       "      <td>0.658412</td>\n",
       "      <td>./core/experiments/qa/results/20230911171557</td>\n",
       "      <td>./data/MetaQA/source_data/kb.txt</td>\n",
       "      <td>./data/MetaQA/source_data/kb_entities.csv</td>\n",
       "      <td>./data/MetaQA/source_data/kb_properties.txt</td>\n",
       "      <td>./data/MetaQA/graph_embeddings</td>\n",
       "      <td>data/MetaQA/source_data/one-hop/qca_dev.csv</td>\n",
       "      <td>data/MetaQA/source_data/one-hop/qca_dev.csv</td>\n",
       "    </tr>\n",
       "    <tr>\n",
       "      <th>2</th>\n",
       "      <td>2023:09:11 17:20:46</td>\n",
       "      <td>Task: MetaQA with GNN</td>\n",
       "      <td>1</td>\n",
       "      <td>0.001</td>\n",
       "      <td>16</td>\n",
       "      <td>2</td>\n",
       "      <td>NaN</td>\n",
       "      <td>GCN(\\n  (layers): ModuleList(\\n    (0): GCNCon...</td>\n",
       "      <td>0.343275</td>\n",
       "      <td>0.380921</td>\n",
       "      <td>...</td>\n",
       "      <td>0.180726</td>\n",
       "      <td>0.469888</td>\n",
       "      <td>0.658148</td>\n",
       "      <td>./core/experiments/qa/results/20230911170816</td>\n",
       "      <td>./data/MetaQA/source_data/kb.txt</td>\n",
       "      <td>./data/MetaQA/source_data/kb_entities.csv</td>\n",
       "      <td>./data/MetaQA/source_data/kb_properties.txt</td>\n",
       "      <td>./data/MetaQA/graph_embeddings</td>\n",
       "      <td>data/MetaQA/source_data/one-hop/qca_dev.csv</td>\n",
       "      <td>data/MetaQA/source_data/one-hop/qca_dev.csv</td>\n",
       "    </tr>\n",
       "    <tr>\n",
       "      <th>3</th>\n",
       "      <td>2023:09:11 17:39:59</td>\n",
       "      <td>Task: MetaQA with GNN</td>\n",
       "      <td>1</td>\n",
       "      <td>0.001</td>\n",
       "      <td>16</td>\n",
       "      <td>2</td>\n",
       "      <td>NaN</td>\n",
       "      <td>GCN(\\n  (layers): ModuleList(\\n    (0): GCNCon...</td>\n",
       "      <td>0.354077</td>\n",
       "      <td>0.404633</td>\n",
       "      <td>...</td>\n",
       "      <td>0.182100</td>\n",
       "      <td>0.464661</td>\n",
       "      <td>0.651879</td>\n",
       "      <td>./core/experiments/qa/results/20230911172209</td>\n",
       "      <td>./data/MetaQA/source_data/kb.txt</td>\n",
       "      <td>./data/MetaQA/source_data/kb_entities.csv</td>\n",
       "      <td>./data/MetaQA/source_data/kb_properties.txt</td>\n",
       "      <td>./data/MetaQA/graph_embeddings</td>\n",
       "      <td>data/MetaQA/source_data/one-hop/qca_train.csv</td>\n",
       "      <td>data/MetaQA/source_data/one-hop/qca_test.csv</td>\n",
       "    </tr>\n",
       "    <tr>\n",
       "      <th>4</th>\n",
       "      <td>2023:09:11 20:50:08</td>\n",
       "      <td>Task: one hop MetaQA with GNN</td>\n",
       "      <td>5</td>\n",
       "      <td>0.001</td>\n",
       "      <td>16</td>\n",
       "      <td>2</td>\n",
       "      <td>NaN</td>\n",
       "      <td>RGCN(\\n  (layers): ModuleList(\\n    (0): RGCNC...</td>\n",
       "      <td>0.408968</td>\n",
       "      <td>0.348015</td>\n",
       "      <td>...</td>\n",
       "      <td>0.210330</td>\n",
       "      <td>0.398532</td>\n",
       "      <td>0.519570</td>\n",
       "      <td>./core/experiments/qa/results/20230911173711</td>\n",
       "      <td>./data/MetaQA/source_data/kb.txt</td>\n",
       "      <td>./data/MetaQA/source_data/kb_entities.csv</td>\n",
       "      <td>./data/MetaQA/source_data/kb_properties.txt</td>\n",
       "      <td>./data/MetaQA/graph_embeddings</td>\n",
       "      <td>data/MetaQA/source_data/one-hop/qca_train.csv</td>\n",
       "      <td>data/MetaQA/source_data/one-hop/qca_test.csv</td>\n",
       "    </tr>\n",
       "    <tr>\n",
       "      <th>5</th>\n",
       "      <td>2023:09:12 03:21:21</td>\n",
       "      <td>Task: one hop MetaQA with GNN</td>\n",
       "      <td>10</td>\n",
       "      <td>0.001</td>\n",
       "      <td>16</td>\n",
       "      <td>2</td>\n",
       "      <td>NaN</td>\n",
       "      <td>RGAT(\\n  (layers): ModuleList(\\n    (0): RGATC...</td>\n",
       "      <td>0.394491</td>\n",
       "      <td>0.345914</td>\n",
       "      <td>...</td>\n",
       "      <td>0.202885</td>\n",
       "      <td>0.403650</td>\n",
       "      <td>0.522258</td>\n",
       "      <td>./core/experiments/qa/results/20230911231834</td>\n",
       "      <td>./data/MetaQA/source_data/kb.txt</td>\n",
       "      <td>./data/MetaQA/source_data/kb_entities.csv</td>\n",
       "      <td>./data/MetaQA/source_data/kb_properties.txt</td>\n",
       "      <td>./data/MetaQA/graph_embeddings</td>\n",
       "      <td>data/MetaQA/source_data/one-hop/qca_train.csv</td>\n",
       "      <td>data/MetaQA/source_data/one-hop/qca_test.csv</td>\n",
       "    </tr>\n",
       "    <tr>\n",
       "      <th>6</th>\n",
       "      <td>2023:09:12 05:24:27</td>\n",
       "      <td>Task: one hop MetaQA with GNN</td>\n",
       "      <td>10</td>\n",
       "      <td>0.001</td>\n",
       "      <td>16</td>\n",
       "      <td>2</td>\n",
       "      <td>NaN</td>\n",
       "      <td>RGCN(\\n  (layers): ModuleList(\\n    (0): RGCNC...</td>\n",
       "      <td>0.420730</td>\n",
       "      <td>0.356768</td>\n",
       "      <td>...</td>\n",
       "      <td>0.216380</td>\n",
       "      <td>0.415025</td>\n",
       "      <td>0.538648</td>\n",
       "      <td>./core/experiments/qa/results/20230911222150</td>\n",
       "      <td>./data/MetaQA/source_data/kb.txt</td>\n",
       "      <td>./data/MetaQA/source_data/kb_entities.csv</td>\n",
       "      <td>./data/MetaQA/source_data/kb_properties.txt</td>\n",
       "      <td>./data/MetaQA/graph_embeddings</td>\n",
       "      <td>data/MetaQA/source_data/one-hop/qca_train.csv</td>\n",
       "      <td>data/MetaQA/source_data/one-hop/qca_test.csv</td>\n",
       "    </tr>\n",
       "  </tbody>\n",
       "</table>\n",
       "<p>7 rows × 26 columns</p>\n",
       "</div>"
      ],
      "text/plain": [
       "            time_stamp                           info  Epochs  Learning Rate  \\\n",
       "0  2023:09:11 17:15:29          Task: MetaQA with GNN       1          0.001   \n",
       "1  2023:09:11 17:20:13          Task: MetaQA with GNN       1          0.001   \n",
       "2  2023:09:11 17:20:46          Task: MetaQA with GNN       1          0.001   \n",
       "3  2023:09:11 17:39:59          Task: MetaQA with GNN       1          0.001   \n",
       "4  2023:09:11 20:50:08  Task: one hop MetaQA with GNN       5          0.001   \n",
       "5  2023:09:12 03:21:21  Task: one hop MetaQA with GNN      10          0.001   \n",
       "6  2023:09:12 05:24:27  Task: one hop MetaQA with GNN      10          0.001   \n",
       "\n",
       "   hidden_dimension  num_layers  num_bases  \\\n",
       "0                16           2        NaN   \n",
       "1                16           2        NaN   \n",
       "2                16           2        NaN   \n",
       "3                16           2        NaN   \n",
       "4                16           2        NaN   \n",
       "5                16           2        NaN   \n",
       "6                16           2        NaN   \n",
       "\n",
       "                                               Model    hits@1        F1  ...  \\\n",
       "0  GCN(\\n  (layers): ModuleList(\\n    (0): GCNCon...  0.326761  0.289240  ...   \n",
       "1  GCN(\\n  (layers): ModuleList(\\n    (0): GCNCon...  0.346677  0.394850  ...   \n",
       "2  GCN(\\n  (layers): ModuleList(\\n    (0): GCNCon...  0.343275  0.380921  ...   \n",
       "3  GCN(\\n  (layers): ModuleList(\\n    (0): GCNCon...  0.354077  0.404633  ...   \n",
       "4  RGCN(\\n  (layers): ModuleList(\\n    (0): RGCNC...  0.408968  0.348015  ...   \n",
       "5  RGAT(\\n  (layers): ModuleList(\\n    (0): RGATC...  0.394491  0.345914  ...   \n",
       "6  RGCN(\\n  (layers): ModuleList(\\n    (0): RGCNC...  0.420730  0.356768  ...   \n",
       "\n",
       "   recall@1  recall@3  recall@5                               model_directory  \\\n",
       "0  0.172032  0.452447  0.631119  ./core/experiments/qa/results/20230911171132   \n",
       "1  0.182518  0.471416  0.658412  ./core/experiments/qa/results/20230911171557   \n",
       "2  0.180726  0.469888  0.658148  ./core/experiments/qa/results/20230911170816   \n",
       "3  0.182100  0.464661  0.651879  ./core/experiments/qa/results/20230911172209   \n",
       "4  0.210330  0.398532  0.519570  ./core/experiments/qa/results/20230911173711   \n",
       "5  0.202885  0.403650  0.522258  ./core/experiments/qa/results/20230911231834   \n",
       "6  0.216380  0.415025  0.538648  ./core/experiments/qa/results/20230911222150   \n",
       "\n",
       "                       triples_path  \\\n",
       "0  ./data/MetaQA/source_data/kb.txt   \n",
       "1  ./data/MetaQA/source_data/kb.txt   \n",
       "2  ./data/MetaQA/source_data/kb.txt   \n",
       "3  ./data/MetaQA/source_data/kb.txt   \n",
       "4  ./data/MetaQA/source_data/kb.txt   \n",
       "5  ./data/MetaQA/source_data/kb.txt   \n",
       "6  ./data/MetaQA/source_data/kb.txt   \n",
       "\n",
       "                        entities_labels_path  \\\n",
       "0  ./data/MetaQA/source_data/kb_entities.csv   \n",
       "1  ./data/MetaQA/source_data/kb_entities.csv   \n",
       "2  ./data/MetaQA/source_data/kb_entities.csv   \n",
       "3  ./data/MetaQA/source_data/kb_entities.csv   \n",
       "4  ./data/MetaQA/source_data/kb_entities.csv   \n",
       "5  ./data/MetaQA/source_data/kb_entities.csv   \n",
       "6  ./data/MetaQA/source_data/kb_entities.csv   \n",
       "\n",
       "                        properties_labels_path  \\\n",
       "0  ./data/MetaQA/source_data/kb_properties.txt   \n",
       "1  ./data/MetaQA/source_data/kb_properties.txt   \n",
       "2  ./data/MetaQA/source_data/kb_properties.txt   \n",
       "3  ./data/MetaQA/source_data/kb_properties.txt   \n",
       "4  ./data/MetaQA/source_data/kb_properties.txt   \n",
       "5  ./data/MetaQA/source_data/kb_properties.txt   \n",
       "6  ./data/MetaQA/source_data/kb_properties.txt   \n",
       "\n",
       "            graph_embeddings_path  \\\n",
       "0  ./data/MetaQA/graph_embeddings   \n",
       "1  ./data/MetaQA/graph_embeddings   \n",
       "2  ./data/MetaQA/graph_embeddings   \n",
       "3  ./data/MetaQA/graph_embeddings   \n",
       "4  ./data/MetaQA/graph_embeddings   \n",
       "5  ./data/MetaQA/graph_embeddings   \n",
       "6  ./data/MetaQA/graph_embeddings   \n",
       "\n",
       "   training_questions_concepts_answers_file_path  \\\n",
       "0    data/MetaQA/source_data/one-hop/qca_dev.csv   \n",
       "1    data/MetaQA/source_data/one-hop/qca_dev.csv   \n",
       "2    data/MetaQA/source_data/one-hop/qca_dev.csv   \n",
       "3  data/MetaQA/source_data/one-hop/qca_train.csv   \n",
       "4  data/MetaQA/source_data/one-hop/qca_train.csv   \n",
       "5  data/MetaQA/source_data/one-hop/qca_train.csv   \n",
       "6  data/MetaQA/source_data/one-hop/qca_train.csv   \n",
       "\n",
       "   testing_questions_concepts_answers_file_path  \n",
       "0   data/MetaQA/source_data/one-hop/qca_dev.csv  \n",
       "1   data/MetaQA/source_data/one-hop/qca_dev.csv  \n",
       "2   data/MetaQA/source_data/one-hop/qca_dev.csv  \n",
       "3  data/MetaQA/source_data/one-hop/qca_test.csv  \n",
       "4  data/MetaQA/source_data/one-hop/qca_test.csv  \n",
       "5  data/MetaQA/source_data/one-hop/qca_test.csv  \n",
       "6  data/MetaQA/source_data/one-hop/qca_test.csv  \n",
       "\n",
       "[7 rows x 26 columns]"
      ]
     },
     "execution_count": 5,
     "metadata": {},
     "output_type": "execute_result"
    }
   ],
   "source": [
    "metaQA_results"
   ]
  },
  {
   "cell_type": "code",
   "execution_count": null,
   "metadata": {},
   "outputs": [],
   "source": []
  }
 ],
 "metadata": {
  "kernelspec": {
   "display_name": "psmg-imkg-gnn-qa-b7xnrL-L",
   "language": "python",
   "name": "python3"
  },
  "language_info": {
   "codemirror_mode": {
    "name": "ipython",
    "version": 3
   },
   "file_extension": ".py",
   "mimetype": "text/x-python",
   "name": "python",
   "nbconvert_exporter": "python",
   "pygments_lexer": "ipython3",
   "version": "3.11.1"
  },
  "orig_nbformat": 4
 },
 "nbformat": 4,
 "nbformat_minor": 2
}
