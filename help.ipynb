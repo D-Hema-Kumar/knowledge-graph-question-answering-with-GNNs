{
 "cells": [
  {
   "cell_type": "code",
   "execution_count": 2,
   "metadata": {},
   "outputs": [],
   "source": [
    "import torch\n",
    "import pandas as pd"
   ]
  },
  {
   "cell_type": "code",
   "execution_count": 4,
   "metadata": {},
   "outputs": [],
   "source": [
    "ENTITIES_LABELS_PATH = \"./data/source_data/VAD_entities_labels.csv\"\n",
    "entities_data = pd.read_csv(ENTITIES_LABELS_PATH)"
   ]
  },
  {
   "cell_type": "code",
   "execution_count": 31,
   "metadata": {},
   "outputs": [],
   "source": [
    "csv_file_path = 'data/source_data/VAD_question_answers.csv'\n",
    "df = pd.read_csv(csv_file_path)\n",
    "data_dict = df.set_index('question').to_dict()['answer_uri']\n",
    "\n",
    "def labeler_generator(question):\n",
    "\n",
    "    def labeler(x):\n",
    "        question_to_answer = data_dict\n",
    "        if question_to_answer[question] == x:\n",
    "            return True\n",
    "        return False\n",
    "    \n",
    "    return labeler"
   ]
  },
  {
   "cell_type": "code",
   "execution_count": 27,
   "metadata": {},
   "outputs": [
    {
     "data": {
      "text/plain": [
       "False"
      ]
     },
     "execution_count": 27,
     "metadata": {},
     "output_type": "execute_result"
    }
   ],
   "source": [
    "qa_labeler('What is a MFS-50-10-30 Operated JV Operations Pre-requisite Setup?',\n",
    "           ''\n",
    "           )"
   ]
  },
  {
   "cell_type": "code",
   "execution_count": 34,
   "metadata": {},
   "outputs": [
    {
     "ename": "KeyError",
     "evalue": "'What is Customer Cnsignment with Simplified Intra-Community VAT Rules type?'",
     "output_type": "error",
     "traceback": [
      "\u001b[0;31m---------------------------------------------------------------------------\u001b[0m",
      "\u001b[0;31mKeyError\u001b[0m                                  Traceback (most recent call last)",
      "Cell \u001b[0;32mIn[34], line 1\u001b[0m\n\u001b[0;32m----> 1\u001b[0m \u001b[39msum\u001b[39m(torch\u001b[39m.\u001b[39mtensor(\u001b[39mlist\u001b[39;49m(\u001b[39mmap\u001b[39;49m(qa_labeler(\u001b[39m'\u001b[39;49m\u001b[39mWhat is Customer Cnsignment with Simplified Intra-Community VAT Rules type?\u001b[39;49m\u001b[39m'\u001b[39;49m), entities_data[\u001b[39m\"\u001b[39;49m\u001b[39muri\u001b[39;49m\u001b[39m\"\u001b[39;49m]))))\n",
      "Cell \u001b[0;32mIn[31], line 8\u001b[0m, in \u001b[0;36mqa_labeler.<locals>.labeler\u001b[0;34m(answer_uri)\u001b[0m\n\u001b[1;32m      6\u001b[0m \u001b[39mdef\u001b[39;00m \u001b[39mlabeler\u001b[39m(answer_uri):\n\u001b[1;32m      7\u001b[0m     question_to_answer \u001b[39m=\u001b[39m data_dict\n\u001b[0;32m----> 8\u001b[0m     \u001b[39mif\u001b[39;00m question_to_answer[question] \u001b[39m==\u001b[39m answer_uri:\n\u001b[1;32m      9\u001b[0m         \u001b[39mreturn\u001b[39;00m \u001b[39mTrue\u001b[39;00m\n\u001b[1;32m     10\u001b[0m     \u001b[39mreturn\u001b[39;00m \u001b[39mFalse\u001b[39;00m\n",
      "\u001b[0;31mKeyError\u001b[0m: 'What is Customer Cnsignment with Simplified Intra-Community VAT Rules type?'"
     ]
    }
   ],
   "source": [
    "sum(torch.tensor(list(map(qa_labeler('What is Customer Consignment with Simplified Intra-Community VAT Rules type?'), entities_data[\"uri\"]))))"
   ]
  },
  {
   "cell_type": "code",
   "execution_count": null,
   "metadata": {},
   "outputs": [],
   "source": []
  }
 ],
 "metadata": {
  "kernelspec": {
   "display_name": "psmg-imkg-gnn-qa-b42qFiTl",
   "language": "python",
   "name": "python3"
  },
  "language_info": {
   "codemirror_mode": {
    "name": "ipython",
    "version": 3
   },
   "file_extension": ".py",
   "mimetype": "text/x-python",
   "name": "python",
   "nbconvert_exporter": "python",
   "pygments_lexer": "ipython3",
   "version": "3.11.3"
  },
  "orig_nbformat": 4
 },
 "nbformat": 4,
 "nbformat_minor": 2
}
